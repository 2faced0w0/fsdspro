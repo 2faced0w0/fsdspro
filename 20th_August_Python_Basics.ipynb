{
 "cells": [
  {
   "cell_type": "markdown",
   "id": "e1f03a32-f26f-46b5-b075-6c1b25f4d2e2",
   "metadata": {},
   "source": [
    "# TOPIC: String Based Assignment Problem"
   ]
  },
  {
   "cell_type": "markdown",
   "id": "d53ca257-5a00-4863-9fd0-12fb2aa97937",
   "metadata": {},
   "source": [
    "1. Write a program to reverse a string."
   ]
  },
  {
   "cell_type": "code",
   "execution_count": null,
   "id": "d29c8267-49ea-48cb-872b-1862c20d03aa",
   "metadata": {},
   "outputs": [],
   "source": [
    "#without using reverse() method\n",
    "def rev(str):\n",
    "    return str[::-1]  #string slicing syntax string[star:stop:step], [::-1] returns all the characters of the string in reverse order\n",
    "\n",
    "str=input(\"Enter a string: \")\n",
    "print(rev(str))"
   ]
  },
  {
   "cell_type": "markdown",
   "id": "4f1622af-8387-4a4c-b7db-5a78df5aebee",
   "metadata": {},
   "source": [
    "2. Check if a string is a palindrome."
   ]
  },
  {
   "cell_type": "code",
   "execution_count": null,
   "id": "5b3d7c78-dee5-4b2c-ac3f-812d16fc21f2",
   "metadata": {},
   "outputs": [],
   "source": [
    "def palin_check(str):\n",
    "    str=\"\".join(str.split())  #joining all the elements after splitting them character-wise to get rid of white-spaces\n",
    "    if str==str[::-1]:        #checking if the string reads exact same in reverse order(without any white spaces)\n",
    "    \treturn 'It is Palindrome'\n",
    "    else:\n",
    "        return 'Not a Palindrome'\n",
    "\n",
    "print(palin_check(input(\"Enter a string: \")))"
   ]
  },
  {
   "cell_type": "markdown",
   "id": "2ca701e6-03de-4ac7-9fd7-11d18f7dbbb3",
   "metadata": {},
   "source": [
    "3. Convert a string to uppercase."
   ]
  },
  {
   "cell_type": "code",
   "execution_count": null,
   "id": "6fcd0da3-4e37-415a-a8cf-4287e6ceb9d5",
   "metadata": {},
   "outputs": [],
   "source": [
    "def toUpper(str):\n",
    "    upper= ''\n",
    "    for word in str:\n",
    "        for char in word:\n",
    "            if ord(char)>96 and ord(char)<123:\n",
    "                char=ord(char)-32\n",
    "                to_letters = chr(char)\n",
    "                upper+=to_letters\n",
    "            else:\n",
    "                upper+= char\n",
    "    return upper\n",
    "sen = str(input(\"Enter a word: \" ))\n",
    "print(toUpper(sen))"
   ]
  },
  {
   "cell_type": "markdown",
   "id": "5615b05f-5a99-492a-a46a-517516a9551c",
   "metadata": {},
   "source": [
    "4. Convert a string to lowercase."
   ]
  },
  {
   "cell_type": "code",
   "execution_count": null,
   "id": "0cad5faa-126b-42cf-ad8f-cc26a417cc9b",
   "metadata": {},
   "outputs": [],
   "source": [
    "def toLower(str):\n",
    "    lower= ''\n",
    "    for word in str:\n",
    "        for char in word:\n",
    "            if ord(char)>64 and ord(char)<91:\n",
    "                char=ord(char)+32\n",
    "                to_letters = chr(char)\n",
    "                lower+=to_letters\n",
    "            else:\n",
    "                lower+= char\n",
    "    return lower\n",
    "sen = str(input(\"Enter a word: \" ))\n",
    "print(toLower(sen))"
   ]
  },
  {
   "cell_type": "markdown",
   "id": "8394684d-c8e5-445c-b239-77021ef1df3d",
   "metadata": {},
   "source": [
    "5. Count the number of vowels in a string."
   ]
  },
  {
   "cell_type": "code",
   "execution_count": null,
   "id": "a343eae1-ab84-41c2-8db9-0b6c2bd7415b",
   "metadata": {},
   "outputs": [],
   "source": [
    "def vowel_ct(sen):\n",
    "    ct_a=0\n",
    "    ct_e=0\n",
    "    ct_i=0\n",
    "    ct_o=0\n",
    "    ct_u=0\n",
    "    for i in list(sen):\n",
    "        if(i=='a' or i=='A'):\n",
    "            ct_a+=1\n",
    "            \n",
    "        elif (i == 'e' or  i== \"E\"):\n",
    "            ct_e +=1\n",
    "            \n",
    "        elif (i == 'i' or  i== \"I\"):\n",
    "            ct_i +=1\n",
    "            \n",
    "        elif (i == 'o' or  i== \"O\"):\n",
    "            ct_o +=1\n",
    "            \n",
    "        elif (i == 'u' or  i== \"U\"):\n",
    "            ct_u +=1\n",
    "            \n",
    "    res=f'Vowel Count: a-> {ct_a}    e-> {ct_e}    i-> {ct_i}    o-> {ct_o}    u-> {ct_u}'\n",
    "    return res\n",
    "            \n",
    "\n",
    "sen=input(\"Enter a string: \")\n",
    "vowel_ct(sen)"
   ]
  },
  {
   "cell_type": "markdown",
   "id": "e442531e-0b2c-4fb0-a406-5adcdb23efa5",
   "metadata": {},
   "source": [
    "6. Count the number of consonants in a string."
   ]
  },
  {
   "cell_type": "code",
   "execution_count": null,
   "id": "fa005dc8-4cc5-4134-8011-c0033b1216e9",
   "metadata": {},
   "outputs": [],
   "source": [
    "def consonant_ct(sen):\n",
    "    ct=0\n",
    "    for i in list(sen):\n",
    "        if(i!='a' and i!='A' and i != 'e' and  i!= \"E\" and i != 'i' and  i!= \"I\" and i != 'o' and  i!= \"O\" and i != 'u' and  i!= \"U\" and i!=' '):\n",
    "            ct+=1\n",
    "    res=f'Total no. of consonants in string: {ct}'\n",
    "    return res\n",
    "            \n",
    "\n",
    "sen=input(\"Enter a string: \")\n",
    "consonant_ct(sen)"
   ]
  },
  {
   "cell_type": "markdown",
   "id": "18566cb2-a8ca-4512-8bf4-b11822933b07",
   "metadata": {},
   "source": [
    "7. Remove all whitespaces from a string."
   ]
  },
  {
   "cell_type": "code",
   "execution_count": null,
   "id": "41248394-5117-4f83-b171-15a855b9e9df",
   "metadata": {},
   "outputs": [],
   "source": [
    "def remove_space(sen):\n",
    "    sen=list(sen)\n",
    "    for i in sen:\n",
    "        if(i==' '):\n",
    "            sen.remove(i)\n",
    "    sen=''.join(sen)\n",
    "    return sen\n",
    "            \n",
    "\n",
    "sen=input(\"Enter a string: \")\n",
    "remove_space(sen)"
   ]
  },
  {
   "cell_type": "markdown",
   "id": "d4dacb5b-2325-4221-ad69-49225812e15b",
   "metadata": {},
   "source": [
    "8. Find the length of a string without using the `len()` function."
   ]
  },
  {
   "cell_type": "code",
   "execution_count": null,
   "id": "1a9005cf-8f93-4038-9148-66299cebb2de",
   "metadata": {},
   "outputs": [],
   "source": [
    "def str_length(sen):\n",
    "    ct=0\n",
    "    for i in list(sen):\n",
    "       ct+=1\n",
    "    return ct\n",
    "\n",
    "sen=input(\"Enter a string: \")\n",
    "str_length(sen)"
   ]
  },
  {
   "cell_type": "markdown",
   "id": "8a55f522-4c7a-46dd-b37e-64cd06f90854",
   "metadata": {},
   "source": [
    "9. Check if a string contains a specific word."
   ]
  },
  {
   "cell_type": "code",
   "execution_count": null,
   "id": "301f155b-acc7-4384-bcf4-13c80e6fdec0",
   "metadata": {},
   "outputs": [],
   "source": [
    "str=input(\"Enter a sentence: \")\n",
    "word=input(\"Enter a word\")\n",
    "if word in str:\n",
    "    print(True)\n",
    "else:\n",
    "    print (False)"
   ]
  },
  {
   "cell_type": "markdown",
   "id": "5c2af680-f24c-47b5-8b6e-b4f95d25d7ce",
   "metadata": {},
   "source": [
    "10. Replace a word in a string with another word."
   ]
  },
  {
   "cell_type": "code",
   "execution_count": null,
   "id": "25f9f12e-8657-42b2-a30e-9f5b10c86605",
   "metadata": {},
   "outputs": [],
   "source": [
    "str=input(\"Enter a string: \")\n",
    "str=str.replace(input(\"Enter word to replace: \"), input(\"Enter new word: \"))\n",
    "print(\"Modified string: \\n\", str)"
   ]
  },
  {
   "cell_type": "markdown",
   "id": "fc322b40-7ba3-4d62-bf11-41a408ba4246",
   "metadata": {},
   "source": [
    "11. Count the occurrences of a word in a string."
   ]
  },
  {
   "cell_type": "code",
   "execution_count": null,
   "id": "f16ad2b1-0d73-48df-8ca7-d8f4307c94e9",
   "metadata": {},
   "outputs": [],
   "source": [
    "def word_count(str, word):\n",
    "    ct=0\n",
    "    for wd in str.split():\n",
    "        if wd == word:\n",
    "            ct+=1\n",
    "    return ct\n",
    "\n",
    "str=input(\"Enter a string: \")\n",
    "word=input(\"Enter a word to count: \")\n",
    "print(f\"The word '{word}' appears '{word_count(str, word)}' times in the input string\")"
   ]
  },
  {
   "cell_type": "markdown",
   "id": "849017cb-ccb9-45e9-a303-0bae76d99db2",
   "metadata": {},
   "source": [
    "12. Find the first occurrence of a word in a string."
   ]
  },
  {
   "cell_type": "code",
   "execution_count": null,
   "id": "caa9a012-ac4b-45a1-a027-913ea17a0b83",
   "metadata": {},
   "outputs": [],
   "source": [
    "str=input(\"Enter a string: \")\n",
    "word=input(\"Enter a word to find: \")\n",
    "index=str.find(word)\n",
    "if index == -1:\n",
    "\tprint(\"Word not found in input string\")\n",
    "else:\n",
    "    print(f\"Index of first occurence of {word}: {index}\")"
   ]
  },
  {
   "cell_type": "markdown",
   "id": "5b5b04cd-75f6-4265-bfa5-9f8131c5b641",
   "metadata": {},
   "source": [
    "13. Find the last occurrence of a word in a string."
   ]
  },
  {
   "cell_type": "code",
   "execution_count": null,
   "id": "afa95233-d936-424d-8e6a-f175767b9050",
   "metadata": {},
   "outputs": [],
   "source": [
    "str=input(\"Enter a string: \")\n",
    "word=input(\"Enter a word to find: \")\n",
    "index=str.rfind(word)\n",
    "if index == -1:\n",
    "\tprint(\"Word not found in input string\")\n",
    "else:\n",
    "    print(f\"Index of last occurence of {word}: {index}\")"
   ]
  },
  {
   "cell_type": "markdown",
   "id": "1e726da5-ca6f-444a-bd07-17b90a1dc6dc",
   "metadata": {},
   "source": [
    "14. Split a string into a list of words."
   ]
  },
  {
   "cell_type": "code",
   "execution_count": null,
   "id": "d9aeda26-756a-4569-b8a5-6f4185718f64",
   "metadata": {},
   "outputs": [],
   "source": [
    "str=input(\"Enter a string: \")\n",
    "list=str.split(' ')\n",
    "#list of words\n",
    "print(list)"
   ]
  },
  {
   "cell_type": "markdown",
   "id": "6e6f076e-5af8-47f5-8aa1-04479329aac6",
   "metadata": {},
   "source": [
    "15. Join a list of words into a string."
   ]
  },
  {
   "cell_type": "code",
   "execution_count": null,
   "id": "a6a50d74-e02d-4cb2-90f6-29035881db77",
   "metadata": {},
   "outputs": [],
   "source": [
    "list=input(\"Enter a list of words separated by comma e.g. Edd,Ed,Eddy: \").split(',')\n",
    "str=' '.join(list)\n",
    "#joined string\n",
    "print(str)"
   ]
  },
  {
   "cell_type": "markdown",
   "id": "b1328f31-81b8-4cf8-bd91-e5c5f3451638",
   "metadata": {},
   "source": [
    "16. Convert a string where words are separated by spaces to one where words are separated by underscores."
   ]
  },
  {
   "cell_type": "code",
   "execution_count": null,
   "id": "d3d97142-4d6c-4bdd-9e0f-2011699e7409",
   "metadata": {},
   "outputs": [],
   "source": [
    "str=input(\"Enter a string: \").split(' ')\n",
    "str='_'.join(list)\n",
    "#re-joined string\n",
    "print(str)"
   ]
  },
  {
   "cell_type": "markdown",
   "id": "a2d0c8b3-d4da-418a-93d9-f09324f3dbd8",
   "metadata": {},
   "source": [
    "17. Check if a string starts with a specific word or phrase."
   ]
  },
  {
   "cell_type": "code",
   "execution_count": null,
   "id": "7e36c31b-1de8-494a-872d-bd30ce187735",
   "metadata": {},
   "outputs": [],
   "source": [
    "str=input(\"Enter a string: \")\n",
    "start_str=input(\"Enter a string: \")\n",
    "if str[:len(start_str)] == start_str:\n",
    "    print(\"The text starts with the prefix\")\n",
    "else:\n",
    "    print(\"The text does not start with the prefix\")\n",
    "    "
   ]
  },
  {
   "cell_type": "markdown",
   "id": "25fc0193-e4eb-4fe8-82d3-d19167c6b654",
   "metadata": {},
   "source": [
    "18. Check if a string ends with a specific word or phrase."
   ]
  },
  {
   "cell_type": "code",
   "execution_count": null,
   "id": "e631c32a-80a7-413f-993c-49d5891350e0",
   "metadata": {},
   "outputs": [],
   "source": [
    "str=input(\"Enter a string: \")\n",
    "start_str=input(\"Enter a string: \")\n",
    "if str[len(start_str)::] == start_str:\n",
    "    print(\"The text ends with the prefix\")\n",
    "else:\n",
    "    print(\"The text does not end with the prefix\")\n",
    "    "
   ]
  },
  {
   "cell_type": "markdown",
   "id": "4d24190b-0bb2-46b8-af9c-8daae8d7e156",
   "metadata": {},
   "source": [
    "19. Convert a string to title case (e.g., \"hello world\" to \"Hello World\")."
   ]
  },
  {
   "cell_type": "code",
   "execution_count": null,
   "id": "fe7e96ec-3efb-402e-9f5a-2efddab2c84f",
   "metadata": {},
   "outputs": [],
   "source": [
    "str=input(\"Enter a string: \")\n",
    "#we use title() method to convert a string to title case\n",
    "print(str.title())"
   ]
  },
  {
   "cell_type": "markdown",
   "id": "ffa25a32-5471-40ca-8a22-cab156a3c673",
   "metadata": {},
   "source": [
    "20. Find the longest word in a string."
   ]
  },
  {
   "cell_type": "code",
   "execution_count": null,
   "id": "75957592-96bc-459a-a718-ba2894b6cc01",
   "metadata": {},
   "outputs": [],
   "source": [
    "def find_longest_word(sen):\n",
    "    #this function accepts a string argument and returns the longest word present in the string by manually checking the length of all the words using len() method and storing the longest word in a variable\n",
    "    sen=sen.split()\n",
    "    max_length=0\n",
    "    max_word=0\n",
    "    for word in sen:\n",
    "        if len(word)>max_length:\n",
    "            max_length=len(word)\n",
    "            max_word=word\n",
    "    return max_word\n",
    "\n",
    "str=input(\"Enter a string: \")\n",
    "print('The longest word in the string is:',find_longest_word(str))"
   ]
  },
  {
   "cell_type": "markdown",
   "id": "9d87f007-d38e-4c8c-a916-1edcfa05beca",
   "metadata": {},
   "source": [
    "21. Find the shortest word in a string."
   ]
  },
  {
   "cell_type": "code",
   "execution_count": null,
   "id": "e41a0d27-29e9-44b7-84c3-875aa736eef4",
   "metadata": {},
   "outputs": [],
   "source": [
    "def find_shortest_word(sen):\n",
    "    #this function accepts a string argument and returns the shortest word present in the string by manually checking the length of all the words using len() method and storing the shortest word in a variable\n",
    "    sen=sen.split()\n",
    "    min_length=10000\n",
    "    min_word=''\n",
    "    for word in sen:\n",
    "        if len(word)<min_length:\n",
    "            min_length=len(word)\n",
    "            min_word=word\n",
    "    return min_word\n",
    "\n",
    "str=input(\"Enter a string: \")\n",
    "print('The longest word in the string is:',find_shortest_word(str))"
   ]
  },
  {
   "cell_type": "markdown",
   "id": "b7fda199-6fde-4ab2-9658-8ad10a5df034",
   "metadata": {},
   "source": [
    "22. Reverse the order of words in a string."
   ]
  },
  {
   "cell_type": "code",
   "execution_count": null,
   "id": "dd0a2a91-d750-4bc3-81e0-03b364c5a762",
   "metadata": {},
   "outputs": [],
   "source": [
    "def apply_reverse(word):\n",
    "    return word[::-1]\n",
    "\n",
    "sen=input(\"Enter a string: \")\n",
    "for word in sen.split():\n",
    "    print (apply_reverse(word), end=\" \")"
   ]
  },
  {
   "cell_type": "markdown",
   "id": "ac8bed15-4b08-47c5-be53-9f75242fddde",
   "metadata": {},
   "source": [
    "23. Check if a string is alphanumeric."
   ]
  },
  {
   "cell_type": "code",
   "execution_count": null,
   "id": "284dda5d-5c23-4ca9-8cb1-7193bbe5add3",
   "metadata": {},
   "outputs": [],
   "source": [
    "sen=input(\"Enter a string: \").split()\n",
    "sen=''.join(sen)\n",
    "result=sen.isalnum()\n",
    "if result:\n",
    "    print(\"Input string is alpha-numeric\")\n",
    "else:\n",
    "    print(\"Input string is not alpha-numeric\")"
   ]
  },
  {
   "cell_type": "markdown",
   "id": "c83dcdcc-a87c-4d2d-a988-8a7fecea7efb",
   "metadata": {},
   "source": [
    "24. Extract all digits from a string."
   ]
  },
  {
   "cell_type": "code",
   "execution_count": null,
   "id": "16b9d1aa-5c46-46fc-a8e4-b56314248408",
   "metadata": {},
   "outputs": [],
   "source": [
    "def extract_digits(sen):\n",
    "    #this function extracts all digits from a string argument, stores it in a list object and returns it\n",
    "    digits=[]\n",
    "    for i in list(sen):\n",
    "        if i.isdigit():\n",
    "            digits.append(i)\n",
    "    return digits\n",
    "\n",
    "sen=input(\"Enter a string: \")\n",
    "print(\"Extracted digits: \", extract_digits(sen))"
   ]
  },
  {
   "cell_type": "markdown",
   "id": "c47ac316-9216-4f14-ad44-b8fe25b189ce",
   "metadata": {},
   "source": [
    "25. Extract all alphabets from a string."
   ]
  },
  {
   "cell_type": "code",
   "execution_count": null,
   "id": "448647e3-bcaf-42fd-8afc-34e11a8ab01a",
   "metadata": {},
   "outputs": [],
   "source": [
    "def extract_alpha(sen):\n",
    "    #this function extracts all alphabets from a string argument, stores it in a list object and returns it\n",
    "    alphabets=[]\n",
    "    for i in list(sen):\n",
    "        if i.isalpha():\n",
    "            alphabets.append(i)\n",
    "    return alphabets\n",
    "\n",
    "sen=input(\"Enter a string: \")\n",
    "print(\"Extracted alphabets: \", extract_alpha(sen))"
   ]
  },
  {
   "cell_type": "markdown",
   "id": "01d5f2c9-444d-4b09-9959-03f5b106adc8",
   "metadata": {},
   "source": [
    "26. Count the number of uppercase letters in a string."
   ]
  },
  {
   "cell_type": "code",
   "execution_count": null,
   "id": "f76c368f-fcc0-43dd-8ce8-5ce96cc43ca1",
   "metadata": {},
   "outputs": [],
   "source": [
    "def count_upper(sen):\n",
    "    upper_ct=0\n",
    "    for i in list(sen):\n",
    "        if i.isupper():\n",
    "            upper_ct+=1\n",
    "    return upper_ct\n",
    "\n",
    "sen=input(\"Enter a string: \")\n",
    "print(\"No. of uppercase: \", count_upper(sen))"
   ]
  },
  {
   "cell_type": "markdown",
   "id": "8ffe363d-e6e8-4f02-a0b1-65c29aa32911",
   "metadata": {},
   "source": [
    "27. Count the number of lowercase letters in a string."
   ]
  },
  {
   "cell_type": "code",
   "execution_count": null,
   "id": "8ff9f092-d00c-4025-a6f7-fc0596828c06",
   "metadata": {},
   "outputs": [],
   "source": [
    "def count_lower(sen):\n",
    "    upper_ct=0\n",
    "    for i in list(sen):\n",
    "        if i.islower():\n",
    "            upper_ct+=1\n",
    "    return upper_ct\n",
    "\n",
    "sen=input(\"Enter a string: \")\n",
    "print(\"No. of uppercase: \", count_lower(sen))"
   ]
  },
  {
   "cell_type": "markdown",
   "id": "17ec8bc2-282f-4412-a8c2-3a734efaeb70",
   "metadata": {},
   "source": [
    "28. Swap the case of each character in a string."
   ]
  },
  {
   "cell_type": "code",
   "execution_count": null,
   "id": "f4dcaabc-5d43-4211-b004-c1ca97a55927",
   "metadata": {},
   "outputs": [],
   "source": [
    "def swap_case(sen):\n",
    "    upper_ct=0\n",
    "    new_str=\"\"\n",
    "    for i in list(sen):\n",
    "        \n",
    "        if i.islower():\n",
    "            new_str+=i.upper()\n",
    "            \n",
    "        elif i.isupper():\n",
    "            new_str+=i.lower()\n",
    "            \n",
    "        else:\n",
    "            new_str+=i\n",
    "            \n",
    "    return new_str\n",
    "\n",
    "sen=input(\"Enter a string: \")\n",
    "print(\"Input string after swapping case: \", swap_case(sen))"
   ]
  },
  {
   "cell_type": "markdown",
   "id": "dc2ffcc6-0648-404c-a015-7bc9d13bbb5b",
   "metadata": {},
   "source": [
    "29. Remove a specific word from a string."
   ]
  },
  {
   "cell_type": "code",
   "execution_count": null,
   "id": "acb69186-5880-4ef2-9bdf-c00c92ff000b",
   "metadata": {},
   "outputs": [],
   "source": [
    "def rem_word(sen, word):\n",
    "\tsen=list(sen)\n",
    "\tsen.remove(word)\n",
    "\treturn ' '.join(sen)\n",
    "    \n",
    "sen=input(\"Enter a string: \").split()\n",
    "word=input(\"Enter word to remove: \")\n",
    "print(rem_word(sen, word))"
   ]
  },
  {
   "cell_type": "markdown",
   "id": "1d011cd1-e934-4a9a-bb37-9720bffa64d0",
   "metadata": {},
   "source": [
    "30. Check if a string is a valid email address."
   ]
  },
  {
   "cell_type": "code",
   "execution_count": null,
   "id": "66c9bfc3-8367-4712-ae12-7f3ddebb57e2",
   "metadata": {},
   "outputs": [],
   "source": [
    "import re  # Import the regular expression module\n",
    "\n",
    "def email_validity(sen):\n",
    "    pattern = r'^[\\w\\.-]+@[\\w\\.-]+\\.\\w+$'  # Regular expression pattern for a basic email validation\n",
    "    if re.match(pattern, sen):\n",
    "        return f'''\"{sen}\" is a valid email'''\n",
    "    else:\n",
    "        return f'''\"{sen}\" is not a valid email'''\n",
    "    \n",
    "sen=input(\"Enter email: \")\n",
    "email_validity(sen)"
   ]
  },
  {
   "cell_type": "markdown",
   "id": "c4015b8a-3df1-4a81-9eb3-d8ab9ed40b74",
   "metadata": {},
   "source": [
    "31. Extract the username from an email address string."
   ]
  },
  {
   "cell_type": "code",
   "execution_count": null,
   "id": "7048231e-4709-4f3e-82ad-24f10b91fb6d",
   "metadata": {},
   "outputs": [],
   "source": [
    "def extract_username(email):\n",
    "\temail.strip()\n",
    "\treturn email.split('@')[0] #splitting email string at occurence of '@' and returning the 1st part\n",
    "\n",
    "email=input(\"Enter email: \")\n",
    "print(extract_username(email))"
   ]
  },
  {
   "cell_type": "markdown",
   "id": "7456534f-392c-46c0-8680-f1124724fe4e",
   "metadata": {},
   "source": [
    "32. Extract the domain name from an email address string."
   ]
  },
  {
   "cell_type": "code",
   "execution_count": null,
   "id": "f4db6d34-5826-48d4-b70b-63c872b7d780",
   "metadata": {},
   "outputs": [],
   "source": [
    "def extract_username(email):\n",
    "\temail.strip()\n",
    "\treturn email.split('@')[1] #splitting email string at occurence of '@' and returning the 2nd part\n",
    "\n",
    "email=input(\"Enter email: \")\n",
    "print(extract_username(email))"
   ]
  },
  {
   "cell_type": "markdown",
   "id": "c13e151d-8d37-4691-b999-6529c069eeba",
   "metadata": {},
   "source": [
    "33. Replace multiple spaces in a string with a single space."
   ]
  },
  {
   "cell_type": "code",
   "execution_count": null,
   "id": "d5c69966-6e91-46a7-bda7-8101f85df03a",
   "metadata": {},
   "outputs": [],
   "source": [
    "def format_string(sen):\n",
    "    return ' '.join(sen.split())\n",
    "\n",
    "sen=input(\"Enter a string: \")\n",
    "print(format_string(sen))"
   ]
  },
  {
   "cell_type": "markdown",
   "id": "24b511b4-1a6f-4999-890e-973f0f06517e",
   "metadata": {},
   "source": [
    "34. Check if a string is a valid URL."
   ]
  },
  {
   "cell_type": "code",
   "execution_count": null,
   "id": "f9a5b6c6-5a3b-4c1e-9ea0-c382879dbb85",
   "metadata": {},
   "outputs": [],
   "source": [
    "from urllib.parse import urlparse\n",
    "\n",
    "def is_valid_url(url):\n",
    "    try:\n",
    "        result = urlparse(url)\n",
    "        return all([result.scheme, result.netloc])  # Check if both scheme and netloc are present\n",
    "    except ValueError:\n",
    "        return False\n",
    "\n",
    "url=input(\"Enter a URL: \")\n",
    "result=is_valid_url(url)\n",
    "print(result)"
   ]
  },
  {
   "cell_type": "markdown",
   "id": "2105f7ce-d7bc-4dc7-9048-ad425d8e9074",
   "metadata": {},
   "source": [
    "35. Extract the protocol (http or https) from a URL string."
   ]
  },
  {
   "cell_type": "code",
   "execution_count": null,
   "id": "6eda75dc-898b-4e7c-bcfe-c38c611971a2",
   "metadata": {},
   "outputs": [],
   "source": [
    "def extract_protocol(url):\n",
    "    # Find the index of the first occurrence of \"://\"\n",
    "    protocol_end = url.find(\"://\")\n",
    "\n",
    "    if protocol_end != -1:\n",
    "        # Extract the protocol from the URL\n",
    "        protocol = url[:protocol_end]\n",
    "        return protocol\n",
    "    else:\n",
    "        return None\n",
    "    \n",
    "url=input(\"Enter a URL: \")\n",
    "protocol=extract_protocol(url)\n",
    "print(protocol)"
   ]
  },
  {
   "cell_type": "markdown",
   "id": "e1e0d74f-1668-4476-9da6-caece3fd163d",
   "metadata": {},
   "source": [
    "36. Find the frequency of each character in a string."
   ]
  },
  {
   "cell_type": "code",
   "execution_count": null,
   "id": "07c5eff2-b45f-490a-903a-804f0e2529e0",
   "metadata": {},
   "outputs": [],
   "source": [
    "def character_frequency(sen):\n",
    "    frequency={}  #empty dictionary to store character frequencies\n",
    "\n",
    "    for char in sen:\n",
    "        if char in frequency:\n",
    "            frequency[char]+=1  #Increment the frequency count if the character in dictionary\n",
    "        else:\n",
    "            frequency[char]=1   #Initialize the frequency count to 1 if the character not in dictionary\n",
    "\n",
    "    return frequency\n",
    "\n",
    "sen=input(\"Enter a string: \")\n",
    "res=character_frequency(sen)\n",
    "for char, f in res.items():    #dictionary comprehension\n",
    "    print(f\"Character:  '{char}'     Frequency:  {f}\")"
   ]
  },
  {
   "cell_type": "markdown",
   "id": "7bf05320-2033-40fa-85b8-233e885dd98d",
   "metadata": {},
   "source": [
    "37. Remove all punctuation from a string."
   ]
  },
  {
   "cell_type": "code",
   "execution_count": null,
   "id": "b436989e-5fb7-45bd-a979-eb4f032af65e",
   "metadata": {},
   "outputs": [],
   "source": [
    "import re\n",
    "def remove_punc(sen):\n",
    "    return re.sub('[^a-zA-Z]\\s', ' ', sen)\n",
    "\n",
    "sen=input(\"Enter a string: \")\n",
    "print(\"Without punctutation: \", remove_punc(sen))"
   ]
  },
  {
   "cell_type": "markdown",
   "id": "bd6864c3-7ef3-47c2-909c-434623a04f3e",
   "metadata": {},
   "source": [
    "38. Check if a string contains only digits."
   ]
  },
  {
   "cell_type": "code",
   "execution_count": null,
   "id": "bab900e0-55be-4d4f-b549-d56be38b6d83",
   "metadata": {},
   "outputs": [],
   "source": [
    "def check_string_digit(s):\n",
    "    return s.isdecimal()\n",
    "    \n",
    "string=input(\"Enter a string: \")\n",
    "print(check_string_digit(string))"
   ]
  },
  {
   "cell_type": "markdown",
   "id": "b2434f1d-bcba-46d3-9b2c-38711dc1a74d",
   "metadata": {},
   "source": [
    "39. Check if a string contains only alphabets."
   ]
  },
  {
   "cell_type": "code",
   "execution_count": null,
   "id": "6aa8fad6-3a6f-4dda-a146-a1e89315ffb4",
   "metadata": {},
   "outputs": [],
   "source": [
    "def check_string_alpha(s):\n",
    "    return s.isdalpha()\n",
    "    \n",
    "string=input(\"Enter a string: \")\n",
    "print(check_string_alpha(string))"
   ]
  },
  {
   "cell_type": "markdown",
   "id": "c8fdb346-c6cd-4d67-b07c-7e13ccf1bb5a",
   "metadata": {},
   "source": [
    "40. Convert a string to a list of characters."
   ]
  },
  {
   "cell_type": "code",
   "execution_count": null,
   "id": "c1e22193-4b84-4406-b091-54a95df9bf1f",
   "metadata": {},
   "outputs": [],
   "source": [
    "def split_string(s):\n",
    "\treturn list(s.strip())\n",
    "\n",
    "string=input(\"Enter a string: \")\n",
    "print(split_string(string))"
   ]
  },
  {
   "cell_type": "markdown",
   "id": "f87b7f64-3d2e-40ae-bdeb-6add063e5ebd",
   "metadata": {},
   "source": [
    "41. Check if two strings are anagrams."
   ]
  },
  {
   "cell_type": "code",
   "execution_count": null,
   "id": "27ca082a-370e-4bde-9c13-83a25b3312a0",
   "metadata": {},
   "outputs": [],
   "source": [
    "def anagram_check(s1,s2):\n",
    "    s1=s1.replace(\" \",\"\").lower()\n",
    "    s2=s2.replace(\" \",\"\").lower()\n",
    "    return sorted(s1)==sorted(s2)\n",
    "\n",
    "s1=input(\"Enter 1st string: \")\n",
    "s2=input(\"Enter 2nd string: \")\n",
    "print(anagram_check(s1,s2))"
   ]
  },
  {
   "cell_type": "markdown",
   "id": "85d2a2ec-fa46-4f06-8867-42f5bcf53aa8",
   "metadata": {},
   "source": [
    "42. Encode a string using a Caesar cipher."
   ]
  },
  {
   "cell_type": "code",
   "execution_count": null,
   "id": "83da8f6c-4505-44cf-8b22-4f06e9ef88a5",
   "metadata": {},
   "outputs": [],
   "source": [
    "def generate_cypher(msg, key):\n",
    "    caesar=\"\"  #to store the cypher text\n",
    "    msg=msg.lower()\n",
    "    for char in list(msg):\n",
    "        if char.isalpha():\n",
    "            caesar+=chr((ord(char)+key-ord('a')) % 26 + ord('a'))  #calculates cypher character using key(shift) value\n",
    "        else:\n",
    "            caesar+=char\n",
    "            \n",
    "    return caesar\n",
    "\n",
    "msg=input(\"Enter message to encrypt: \")\n",
    "key=int(input(\"Enter key: \"))\n",
    "generate_cypher(msg,key)"
   ]
  },
  {
   "cell_type": "markdown",
   "id": "ae9f5777-fbcd-4641-82b1-022c4891dec9",
   "metadata": {},
   "source": [
    "43. Decode a Caesar cipher encoded string."
   ]
  },
  {
   "cell_type": "code",
   "execution_count": null,
   "id": "ac29e4f2-c6b7-4ae8-9086-e289f5f62994",
   "metadata": {},
   "outputs": [],
   "source": [
    "def generate_plaintext(cipher, key):\n",
    "    plaintext=\"\"  #to store the cypher text\n",
    "    cipher=cipher.lower()\n",
    "    for char in list(cipher):\n",
    "        if char.isalpha():\n",
    "            plaintext+=chr((ord(char) -key -ord('a')) % 26 + ord('a'))  #calculates plaintext character using key(shift) value\n",
    "        else:\n",
    "            plaintext+=char\n",
    "            \n",
    "    return plaintext\n",
    "\n",
    "cipher=input(\"Enter message to decrypt: \")\n",
    "key=int(input(\"Enter key: \"))\n",
    "generate_plaintext(cipher,key)"
   ]
  },
  {
   "cell_type": "markdown",
   "id": "71533348-41fb-46c6-825c-06ee5bc98f03",
   "metadata": {},
   "source": [
    "44. Find the most frequent word in a string."
   ]
  },
  {
   "cell_type": "code",
   "execution_count": null,
   "id": "52a3b99e-abb6-4c6a-98cb-01aa97c8e2fa",
   "metadata": {},
   "outputs": [],
   "source": [
    "from collections import Counter\n",
    "import re\n",
    "\n",
    "def most_frequent_word(s):\n",
    "    s=re.sub(r'[^\\w\\s]','', s).lower()  # the regular expression \"[^\\w\\s]\"\n",
    "    s=s.split()\n",
    "    return Counter(s)  #returns a dictionary object of frequencies of each occurence (key:value pair)\n",
    "most_frequent_word(input(\"Enter a string: \"))"
   ]
  },
  {
   "cell_type": "markdown",
   "id": "532717ed-84c6-4ee1-95e6-abed0b14e8d8",
   "metadata": {},
   "source": [
    "45. Find all unique words in a string."
   ]
  },
  {
   "cell_type": "code",
   "execution_count": null,
   "id": "2119aebf-9e6b-4862-9134-a79387135f4d",
   "metadata": {},
   "outputs": [],
   "source": [
    "from collections import Counter\n",
    "import re\n",
    "\n",
    "def unique_word(s):\n",
    "    s=re.sub(r'[^\\w\\s]','', s).lower()  # the regular expression \"[^\\w\\s]\"\n",
    "    return set(s.split())\n",
    "    \n",
    "\n",
    "unique_word(input(\"Enter a string: \"))"
   ]
  },
  {
   "cell_type": "markdown",
   "id": "4c83fad7-3636-4611-ac0d-99e33addce08",
   "metadata": {},
   "source": [
    "46. Count the number of syllables in a string."
   ]
  },
  {
   "cell_type": "code",
   "execution_count": null,
   "id": "aa0482da-1bdf-4180-ae1a-3ea84e1f28cf",
   "metadata": {},
   "outputs": [],
   "source": [
    "import re\n",
    "\n",
    "def count_syllables(word):\n",
    "    vowel_groups = re.findall(r'[aeiouy]+', word, re.IGNORECASE)  # Count vowel groups using regular expression\n",
    "\n",
    "    return len(vowel_groups)\n",
    "\n",
    "sen=input(\"Enter a string: \")\n",
    "print(f\"'{sen}' has {count_syllables(sen)} syllables\")"
   ]
  },
  {
   "cell_type": "markdown",
   "id": "5d6bb518-7f26-440a-82bf-2dae978ae60a",
   "metadata": {},
   "source": [
    "47. Check if a string contains any special characters."
   ]
  },
  {
   "cell_type": "code",
   "execution_count": null,
   "id": "90cd2c5a-1547-46ee-a15f-f6924cfe9ddf",
   "metadata": {},
   "outputs": [],
   "source": [
    "import re\n",
    "\n",
    "def check_special_char(s):\n",
    "    \n",
    "    \n",
    "sen=input(\"Enter a string: \")\n",
    "print(f\"'{sen}' has special characters: {check_special_char(sen)}\")"
   ]
  },
  {
   "cell_type": "markdown",
   "id": "982391a0-7414-4fc0-90a4-fded5861a039",
   "metadata": {},
   "source": [
    "48. Remove the nth word from a string."
   ]
  },
  {
   "cell_type": "code",
   "execution_count": null,
   "id": "c0021809-c49d-4dcf-9420-b4bde51e1221",
   "metadata": {},
   "outputs": [],
   "source": [
    "def remove_nth_word(sen,n):\n",
    "    sen=list(sen.split())\n",
    "    sen.remove(sen[n-1])\n",
    "    return ' '.join(sen)\n",
    "\n",
    "sen,n=input(\"Enter a string: \"),int(input(\"Enter position of word to remove: \"))\n",
    "remove_nth_word(sen,n)"
   ]
  },
  {
   "cell_type": "markdown",
   "id": "0c7dd8a8-a77c-4f82-ad0f-036e8bfb4a36",
   "metadata": {},
   "source": [
    "49. Insert a word at the nth position in a string."
   ]
  },
  {
   "cell_type": "code",
   "execution_count": null,
   "id": "257bbefe-e62e-4813-9def-76be5f2fb7a8",
   "metadata": {},
   "outputs": [],
   "source": [
    "def remove_nth_word(sen,n,word):\n",
    "    sen=list(sen.split())\n",
    "    sen.insert(n-1,word)\n",
    "    return ' '.join(sen)\n",
    "\n",
    "sen,n,word=input(\"Enter a string: \"),int(input(\"Enter position to insert word: \")), input(\"Enter word to insert: \")\n",
    "remove_nth_word(sen,n,word)"
   ]
  },
  {
   "cell_type": "markdown",
   "id": "b99130ad-4da1-4fb2-b6c5-98fc9b5c4147",
   "metadata": {},
   "source": [
    "50. Convert a CSV string to a list of lists."
   ]
  },
  {
   "cell_type": "code",
   "execution_count": null,
   "id": "5cc43bfa-1e72-41db-b363-506257b1b7eb",
   "metadata": {},
   "outputs": [],
   "source": [
    "def csv_string_to_list(sen):\n",
    "    line=sen.split('\\n')\n",
    "    res=[]\n",
    "    for l in line:\n",
    "        res.append(l.split(','))\n",
    "        \n",
    "    return res\n",
    "\n",
    "csv_string=input(\"Enter csvstring: \")\n",
    "res=csv_string_to_list(csv_string)\n",
    "for l in res:\n",
    "    print(l,end=\"\\n\")"
   ]
  },
  {
   "cell_type": "markdown",
   "id": "6322d250-7fb0-4a0c-8251-098079873a04",
   "metadata": {},
   "source": [
    "# TOPIC: List based practice problem :"
   ]
  },
  {
   "cell_type": "markdown",
   "id": "8031430b-4ca2-45d3-abc0-fc3718a73c84",
   "metadata": {},
   "source": [
    "1. Create a list with integers from 1 to 10."
   ]
  },
  {
   "cell_type": "code",
   "execution_count": null,
   "id": "b27a12a5-19cd-4592-af02-bf2e2413cd92",
   "metadata": {},
   "outputs": [],
   "source": [
    "list=[i for i in range(1,11)]\n",
    "print(list)"
   ]
  },
  {
   "cell_type": "markdown",
   "id": "50b08281-f807-4442-b918-467614d5e279",
   "metadata": {},
   "source": [
    "2. Find the length of a list without using the len() function."
   ]
  },
  {
   "cell_type": "code",
   "execution_count": null,
   "id": "d7d02572-5200-48a6-a878-c952c3a848f5",
   "metadata": {},
   "outputs": [],
   "source": [
    "def list_length(l):\n",
    "    ct=0\n",
    "    for i in l:\n",
    "        ct+=1\n",
    "    return ct\n",
    "\n",
    "input_list=[1,2,3,4,5,6,7,8]\n",
    "print(f\"Length of '{input_list}'   is   {list_length(input_list)}\")"
   ]
  },
  {
   "cell_type": "markdown",
   "id": "f1cd3f3a-d093-4c74-98f0-60769f490e0b",
   "metadata": {},
   "source": [
    "3. Append an element to the end of a list."
   ]
  },
  {
   "cell_type": "code",
   "execution_count": null,
   "id": "fbc4418d-c998-4575-9274-56d69e6c5d27",
   "metadata": {},
   "outputs": [],
   "source": [
    "my_list=[1,2,3,4,5,6,7,8]\n",
    "my_list.append(input(\"Enter element to append: \"))\n",
    "print(my_list)"
   ]
  },
  {
   "cell_type": "markdown",
   "id": "11484aec-cbfe-4538-a4d3-f1efb3446e62",
   "metadata": {},
   "source": [
    "4. Insert an element at a specific index in a list."
   ]
  },
  {
   "cell_type": "code",
   "execution_count": null,
   "id": "06f09d46-d9a2-4ccd-95aa-9058b4881968",
   "metadata": {},
   "outputs": [],
   "source": [
    "my_list=[1,2,3,4,5,6,7,8]\n",
    "my_list.insert(int(input(\"Enter position to insert element: \"))-1,input(\"Enter element to append: \"))\n",
    "print(my_list)"
   ]
  },
  {
   "cell_type": "markdown",
   "id": "9ea90c26-edc0-4744-ac70-9d517042e92f",
   "metadata": {},
   "source": [
    "5. Remove an element from a list by its value."
   ]
  },
  {
   "cell_type": "code",
   "execution_count": null,
   "id": "b17a39ff-92a2-44f6-8096-a86f861af173",
   "metadata": {},
   "outputs": [],
   "source": [
    "my_list=[1,2,3,4,5,6,7,8]\n",
    "my_list.remove(int(input(\"Enter element to remove: \")))\n",
    "print(my_list)"
   ]
  },
  {
   "cell_type": "markdown",
   "id": "898c3be2-0d2f-4c5e-a575-484209457b9a",
   "metadata": {},
   "source": [
    "6. Remove an element from a list by its index."
   ]
  },
  {
   "cell_type": "code",
   "execution_count": null,
   "id": "88af1a5f-941e-4669-8dce-329a9a611027",
   "metadata": {},
   "outputs": [],
   "source": [
    "my_list=[1,2,3,4,5,6,7,8]\n",
    "my_list.pop(int(input(\"Enter index of element to remove: \")))\n",
    "print(my_list)"
   ]
  },
  {
   "cell_type": "markdown",
   "id": "b0ea6161-2562-4036-a721-edd3a5282498",
   "metadata": {},
   "source": [
    "7. Check if an element exists in a list."
   ]
  },
  {
   "cell_type": "code",
   "execution_count": null,
   "id": "a252c531-a9c8-4f61-a95d-ce8111e7d321",
   "metadata": {},
   "outputs": [],
   "source": [
    "def check_ele(l, ele):\n",
    "    if ele in l:\n",
    "        return True\n",
    "    else:\n",
    "        return False\n",
    "\n",
    "my_list=[1,2,3,4,5,6,7,8]\n",
    "ele=int(input(\"Enter element to check: \"))\n",
    "check_ele(my_list,ele)"
   ]
  },
  {
   "cell_type": "markdown",
   "id": "365a1758-1e12-4807-a1df-95bdeaf5f0aa",
   "metadata": {},
   "source": [
    "8. Find the index of the first occurrence of an element in a list."
   ]
  },
  {
   "cell_type": "code",
   "execution_count": null,
   "id": "6db55cea-9d7b-4438-a4d9-6d5c8f938f04",
   "metadata": {},
   "outputs": [],
   "source": [
    "def check_ele(l, ele):\n",
    "    if ele in l:\n",
    "        return l.index(ele)\n",
    "    else:\n",
    "        return f\"{ele} not in {l}\"\n",
    "\n",
    "my_list=[1,2,3,4,5,6,7,8]\n",
    "ele=int(input(\"Enter element to check: \"))\n",
    "check_ele(my_list,ele)"
   ]
  },
  {
   "cell_type": "markdown",
   "id": "9f8c551d-2857-449d-9b28-84a40e60ed3f",
   "metadata": {},
   "source": [
    "9. Count the occurrences of an element in a list."
   ]
  },
  {
   "cell_type": "code",
   "execution_count": null,
   "id": "4843a85f-365f-4c00-bd77-cdd227b80023",
   "metadata": {},
   "outputs": [],
   "source": [
    "def check_ele(l, ele):\n",
    "    ct=0\n",
    "    if ele in l:\n",
    "        ct+=1\n",
    "    \n",
    "    return f\"{ele} occurs {ct} times in {l}\"\n",
    "\n",
    "my_list=[1,2,3,4,5,6,7,8]\n",
    "ele=int(input(\"Enter element to check: \"))\n",
    "check_ele(my_list,ele)"
   ]
  },
  {
   "cell_type": "markdown",
   "id": "ba116660-295e-4f7d-a764-e35de021651c",
   "metadata": {},
   "source": [
    "10. Reverse the order of elements in a list."
   ]
  },
  {
   "cell_type": "code",
   "execution_count": null,
   "id": "1c165168-8499-4c7f-8007-d10bea180ccf",
   "metadata": {},
   "outputs": [],
   "source": [
    "my_list=[1,2,3,4,5,6,7,8]\n",
    "my_list.reverse()\n",
    "print(my_list)"
   ]
  },
  {
   "cell_type": "markdown",
   "id": "41f5aeb7-0e5a-4a81-9f7c-2fa2a2473dc1",
   "metadata": {},
   "source": [
    "11. Sort a list in ascending order."
   ]
  },
  {
   "cell_type": "code",
   "execution_count": null,
   "id": "831f704c-5acc-4a91-bddf-c7fc8b145aed",
   "metadata": {},
   "outputs": [],
   "source": [
    "my_list=[1,2,3,4,5,6,7,8]\n",
    "my_list.sort()\n",
    "print(my_list)"
   ]
  },
  {
   "cell_type": "markdown",
   "id": "3508a33c-117b-4bea-90f6-6bd30d184c8f",
   "metadata": {},
   "source": [
    "12. Sort a list in descending order."
   ]
  },
  {
   "cell_type": "code",
   "execution_count": null,
   "id": "a16187aa-c6da-44ee-9912-e1dad0bf9188",
   "metadata": {},
   "outputs": [],
   "source": [
    "my_list=[1,2,3,4,5,6,7,8]\n",
    "my_list.sort(reverse=True)\n",
    "print(my_list)"
   ]
  },
  {
   "cell_type": "markdown",
   "id": "514d8eb1-3555-4e85-8be4-08862bdf6c7c",
   "metadata": {},
   "source": [
    "13. Create a list of even numbers from 1 to 20."
   ]
  },
  {
   "cell_type": "code",
   "execution_count": null,
   "id": "5bdc9aad-48cb-4869-a5da-b86dba2b55ad",
   "metadata": {},
   "outputs": [],
   "source": [
    "my_list=[i for i in range(1,21) if i%2==0]\n",
    "print(my_list)"
   ]
  },
  {
   "cell_type": "markdown",
   "id": "5f5f8848-cda6-41b5-8828-3df733276f90",
   "metadata": {},
   "source": [
    "14. Create a list of odd numbers from 1 to 20."
   ]
  },
  {
   "cell_type": "code",
   "execution_count": null,
   "id": "72e0f60d-0dda-4897-8ee8-9327bbd0c423",
   "metadata": {},
   "outputs": [],
   "source": [
    "my_list=[i for i in range(1,21) if i%2!=0]\n",
    "print(my_list)"
   ]
  },
  {
   "cell_type": "markdown",
   "id": "42638f14-8761-4a69-97f6-eaa959a39b5c",
   "metadata": {},
   "source": [
    "15. Find the sum of all elements in a list."
   ]
  },
  {
   "cell_type": "code",
   "execution_count": null,
   "id": "bb2a3fbc-ce96-4099-98a7-aed1c2ca558b",
   "metadata": {},
   "outputs": [],
   "source": [
    "my_list=[1,2,3,4,5,6,7,8]\n",
    "print(sum(my_list))"
   ]
  },
  {
   "cell_type": "markdown",
   "id": "4868ad89-4fe0-45d4-9acf-cd8f30d895c1",
   "metadata": {},
   "source": [
    "16. Find the maximum value in a list."
   ]
  },
  {
   "cell_type": "code",
   "execution_count": null,
   "id": "33672f01-d6a8-48bb-b91f-689032bd92a3",
   "metadata": {},
   "outputs": [],
   "source": [
    "my_list=[1,2,3,4,5,6,7,8]\n",
    "print(max(my_list))"
   ]
  },
  {
   "cell_type": "markdown",
   "id": "96662498-c104-4dd5-83d9-329b13cae1e8",
   "metadata": {},
   "source": [
    "17. Find the minimum value in a list."
   ]
  },
  {
   "cell_type": "code",
   "execution_count": null,
   "id": "82b8ffc0-b255-436e-9563-f43094f54c0d",
   "metadata": {},
   "outputs": [],
   "source": [
    "my_list=[1,2,3,4,5,6,7,8]\n",
    "print(min(my_list))"
   ]
  },
  {
   "cell_type": "markdown",
   "id": "1ef75c9f-14c2-46ad-a860-a3d2d162965b",
   "metadata": {},
   "source": [
    "18. Create a list of squares of numbers from 1 to 10."
   ]
  },
  {
   "cell_type": "code",
   "execution_count": null,
   "id": "88386066-71f3-419e-a204-2afa5dcc326e",
   "metadata": {},
   "outputs": [],
   "source": [
    "my_list=[i*i for i in range(1,11)]\n",
    "print(my_list)"
   ]
  },
  {
   "cell_type": "markdown",
   "id": "0dfde605-4c72-4be3-bce4-eaf7c36a9cae",
   "metadata": {},
   "source": [
    "19. Create a list of random numbers."
   ]
  },
  {
   "cell_type": "code",
   "execution_count": null,
   "id": "aa022523-73a9-426b-a1cc-ecfc2da9deb4",
   "metadata": {},
   "outputs": [],
   "source": [
    "import random\n",
    "my_list=[random.randint(1, 100) for i in range(1,11)]\n",
    "print(my_list)"
   ]
  },
  {
   "cell_type": "markdown",
   "id": "ebdb940d-6228-4a45-86d3-7f04551327ae",
   "metadata": {},
   "source": [
    "20. Remove duplicates from a list."
   ]
  },
  {
   "cell_type": "code",
   "execution_count": null,
   "id": "bf2f84ec-c39d-49be-9cce-08effa964f9c",
   "metadata": {},
   "outputs": [],
   "source": [
    "my_list=[1,2,3,4,5,6,7,8,7,8,5,3,12]\n",
    "print(list(set(my_list)))"
   ]
  },
  {
   "cell_type": "markdown",
   "id": "129f4fab-7c1b-42bb-949e-2fcccd161ec8",
   "metadata": {},
   "source": [
    "21. Find the common elements between two lists."
   ]
  },
  {
   "cell_type": "code",
   "execution_count": null,
   "id": "fc48c90f-a21b-44d0-b471-ab4154186f36",
   "metadata": {},
   "outputs": [],
   "source": [
    "list1=[1,2,3,4,5,6,7,8,7,8,5,3,12]\n",
    "list2=[1,2,3,5,3,12]\n",
    "res=set(filter(lambda x: x in list1, list2))\n",
    "print(res)"
   ]
  },
  {
   "cell_type": "markdown",
   "id": "3ce936d6-49a7-4c52-bbb6-61d487dffb8c",
   "metadata": {},
   "source": [
    "22. Find the difference between two lists."
   ]
  },
  {
   "cell_type": "code",
   "execution_count": null,
   "id": "50d72bd5-0ee2-4de6-8f11-162889656559",
   "metadata": {},
   "outputs": [],
   "source": [
    "list1=[1,2,3,4,5,6,7,8,7,8,5,3,12]\n",
    "list2=[1,2,3,5,3,12]\n",
    "res=set(list1).difference(list2)\n",
    "print(res)"
   ]
  },
  {
   "cell_type": "markdown",
   "id": "2ff9e37c-5363-4fab-bd9a-6e9298ef417b",
   "metadata": {},
   "source": [
    "23. Merge two lists."
   ]
  },
  {
   "cell_type": "code",
   "execution_count": null,
   "id": "fc626cbd-0f90-4d2a-9d01-3b58a1a204ea",
   "metadata": {},
   "outputs": [],
   "source": [
    "list1=[1,2,3,4,5,6,7,8,7,8,5,3,12]\n",
    "list2=[1,2,3,5,3,12]\n",
    "res=list1+list2\n",
    "print(res)"
   ]
  },
  {
   "cell_type": "markdown",
   "id": "64b9f2f9-a25b-4996-8858-ca15da184bbd",
   "metadata": {},
   "source": [
    "24. Multiply all elements in a list by 2."
   ]
  },
  {
   "cell_type": "code",
   "execution_count": null,
   "id": "c714ac71-6b7a-4135-8dfc-e9cbd8fc089c",
   "metadata": {},
   "outputs": [],
   "source": [
    "list1=[1,2,3,5,3,12]\n",
    "print([i*2 for i in list1])"
   ]
  },
  {
   "cell_type": "markdown",
   "id": "0ffc6ad8-7372-4fe5-a4a5-de222758cc0c",
   "metadata": {},
   "source": [
    "25. Filter out all even numbers from a list."
   ]
  },
  {
   "cell_type": "code",
   "execution_count": null,
   "id": "ecb8916a-b115-4244-b491-e5f4f600a53c",
   "metadata": {},
   "outputs": [],
   "source": [
    "list1=[1,2,3,4,5,6,7,8,7,8,5,3,12]\n",
    "res=[i for i in list1 if i%2==0]\n",
    "print(res)"
   ]
  },
  {
   "cell_type": "markdown",
   "id": "2b096976-812b-4189-8193-a7f6e5cc2a0f",
   "metadata": {},
   "source": [
    "26. Convert a list of strings to a list of integers."
   ]
  },
  {
   "cell_type": "code",
   "execution_count": null,
   "id": "e8ad8da8-b552-49ed-aaa1-c1ac6695432d",
   "metadata": {},
   "outputs": [],
   "source": [
    "my_list=[\"10\", \"20\", \"30\", \"40\", \"50\"]\n",
    "my_list=map(int, my_list)\n",
    "print(list(my_list))"
   ]
  },
  {
   "cell_type": "markdown",
   "id": "541c6f45-bcdf-444a-884d-f96c6efdff7e",
   "metadata": {},
   "source": [
    "27. Convert a list of integers to a list of strings."
   ]
  },
  {
   "cell_type": "code",
   "execution_count": null,
   "id": "17734b4b-e0f4-484f-b6a2-0fe58053cf63",
   "metadata": {},
   "outputs": [],
   "source": [
    "my_list=[1,2,3,4,5,6,7,8,7,8,5,3,12]\n",
    "my_list=map(str, my_list)\n",
    "print(list(my_list))"
   ]
  },
  {
   "cell_type": "markdown",
   "id": "6057aeeb-9f1f-465e-a824-5dfee99cc2fe",
   "metadata": {},
   "source": [
    "28. Flatten a nested list."
   ]
  },
  {
   "cell_type": "code",
   "execution_count": null,
   "id": "3e41c4c8-0018-4c85-8526-4f958f1049db",
   "metadata": {},
   "outputs": [],
   "source": [
    "my_list=[[1, 2, 3], [4, 5], [6, 7, 8, 9]]\n",
    "res=[x for sublist in my_list for x in sublist]\n",
    "print(res)"
   ]
  },
  {
   "cell_type": "markdown",
   "id": "b20105e4-192a-47ca-ab38-bbf444bbe845",
   "metadata": {},
   "source": [
    "29. Create a list of the first 10 Fibonacci numbers."
   ]
  },
  {
   "cell_type": "code",
   "execution_count": null,
   "id": "58c01f47-6ad3-44fb-96c4-2e2710de6a5e",
   "metadata": {},
   "outputs": [],
   "source": [
    "def generate_fibonacci(n):\n",
    "    if n<=1:\n",
    "        return n\n",
    "    else:\n",
    "        return generate_fibonacci(n-1)+ generate_fibonacci(n-2)\n",
    "    \n",
    "res=list(map(generate_fibonacci, [x for x in range(1,11)]))\n",
    "print(res)"
   ]
  },
  {
   "cell_type": "markdown",
   "id": "669fd75c-ba40-4dfe-960c-1500be448ff1",
   "metadata": {},
   "source": [
    "30. Check if a list is sorted."
   ]
  },
  {
   "cell_type": "code",
   "execution_count": null,
   "id": "064b66e1-650e-4141-b061-423707e01365",
   "metadata": {},
   "outputs": [],
   "source": [
    "my_list=[1,2,3,4,5,6,7,8,7,8,5,3,12]\n",
    "sorted_list=sorted(my_list)\n",
    "print(f\"'{my_list}' is sorted\" if my_list==sorted_list else f\"'{my_list}' is not sorted\")"
   ]
  },
  {
   "cell_type": "markdown",
   "id": "6d33df5f-b37f-4fe2-92e3-12016c8d12e8",
   "metadata": {},
   "source": [
    "31. Rotate a list to the left by `n` positions."
   ]
  },
  {
   "cell_type": "code",
   "execution_count": null,
   "id": "05c30ec7-ee69-42ba-a37d-ae52257ba8da",
   "metadata": {},
   "outputs": [],
   "source": [
    "my_list=[1,2,3,4,5,6,7]\n",
    "n=int(input(\"Enter no. of positions to rotate: \"))\n",
    "n=n%len(my_list)\n",
    "res=my_list[n::]+my_list[:n:]\n",
    "print(res)"
   ]
  },
  {
   "cell_type": "markdown",
   "id": "fda4064c-54c9-401a-a2f3-b52e519eb716",
   "metadata": {},
   "source": [
    "32. Rotate a list to the right by `n` positions."
   ]
  },
  {
   "cell_type": "code",
   "execution_count": null,
   "id": "d0c4023d-12d3-4121-a61a-346535cb8699",
   "metadata": {},
   "outputs": [],
   "source": [
    "my_list=[1,2,3,4,5,6,7]\n",
    "n=int(input(\"Enter no. of positions to rotate: \"))\n",
    "n=n%len(my_list)\n",
    "res=my_list[-n::]+my_list[:-n:]\n",
    "print(res)"
   ]
  },
  {
   "cell_type": "markdown",
   "id": "be52616f-42e2-4c58-8771-7e7b7fb1e0b9",
   "metadata": {},
   "source": [
    "33. Create a list of prime numbers up to 50."
   ]
  },
  {
   "cell_type": "code",
   "execution_count": null,
   "id": "daff6cdf-1886-47bf-99a2-55b3c379734d",
   "metadata": {},
   "outputs": [],
   "source": [
    "def check_prime(n):\n",
    "    ft=[x for x  in range(2,n) if n%x==0]\n",
    "    \n",
    "    if n<=1:\n",
    "        return False\n",
    "    elif len(ft)>0:\n",
    "        return False\n",
    "    else:\n",
    "        return True\n",
    "    \n",
    "res=[x for x in range(1,51) if check_prime(x)]\n",
    "print(res)"
   ]
  },
  {
   "cell_type": "markdown",
   "id": "b7ed611d-0c7f-4caa-8bb4-81a5a98b357d",
   "metadata": {},
   "source": [
    "34. Split a list into chunks of size n."
   ]
  },
  {
   "cell_type": "code",
   "execution_count": null,
   "id": "2b48e6d9-24d1-4531-a8b3-0d6ddbff8be2",
   "metadata": {},
   "outputs": [],
   "source": [
    "def split_list(lst,n):\n",
    "    for i in range(0, len(lst), n):\n",
    "        yield lst[i:i + n]\n",
    "        \n",
    "lst=[1,2,3,4,5,6,7,8,7,8,5,3,12]\n",
    "n=int(input(\"Enter size of chunks to split into: \"))\n",
    "res=list(split_list(lst,n))\n",
    "print(res)"
   ]
  },
  {
   "cell_type": "markdown",
   "id": "1ba6ecf3-7953-4b67-bb86-552b343953d3",
   "metadata": {},
   "source": [
    "35. Find the second largest number in a list."
   ]
  },
  {
   "cell_type": "code",
   "execution_count": null,
   "id": "470cc4c1-59a7-40fc-9750-d002dcbe19f8",
   "metadata": {},
   "outputs": [],
   "source": [
    "lst=[1,2,3,4,5,6,7,8,7,8,5,3,12]\n",
    "lst=sorted(lst)\n",
    "print(lst[-2])"
   ]
  },
  {
   "cell_type": "markdown",
   "id": "3a6e36c3-985d-4f49-853a-233c304367d7",
   "metadata": {},
   "source": [
    "36. Replace every element in a list with its square."
   ]
  },
  {
   "cell_type": "code",
   "execution_count": null,
   "id": "8fad8efe-764e-4639-9416-94280ea6ffdd",
   "metadata": {},
   "outputs": [],
   "source": [
    "lst=[1,2,3,4,5,6,7,8,7,8,5,3,12]\n",
    "lst=[x**2 for x in lst]\n",
    "print(lst)"
   ]
  },
  {
   "cell_type": "markdown",
   "id": "faa23640-2ef9-477f-b3af-a5f36e155e40",
   "metadata": {},
   "source": [
    "37. Convert a list to a dictionary where list elements become keys and their indices become values."
   ]
  },
  {
   "cell_type": "code",
   "execution_count": null,
   "id": "0aa9ba1d-8d5c-4173-bc58-4b199e782ce2",
   "metadata": {},
   "outputs": [],
   "source": [
    "lst=[1,2,3,4,5,6,7,8,7,8,5,3,12]\n",
    "dict={x:lst.index(x) for x in lst}\n",
    "print(dict)"
   ]
  },
  {
   "cell_type": "markdown",
   "id": "eddd3558-c038-4d2a-be1f-92b1ac7cf124",
   "metadata": {},
   "source": [
    "38. Shuffle the elements of a list randomly."
   ]
  },
  {
   "cell_type": "code",
   "execution_count": null,
   "id": "4c21b4ae-8fc1-4143-bf5d-d03c58492b6d",
   "metadata": {},
   "outputs": [],
   "source": [
    "import random\n",
    "lst=[1,2,3,4,5,6,7,8,7,8,5,3,12]\n",
    "random.shuffle(lst)\n",
    "print(lst)"
   ]
  },
  {
   "cell_type": "markdown",
   "id": "ff7a9d58-168f-41cc-931e-0c5e961ef3b5",
   "metadata": {},
   "source": [
    "39. Create a list of the first 10 factorial numbers."
   ]
  },
  {
   "cell_type": "code",
   "execution_count": null,
   "id": "74c7730d-e612-4c4e-81ea-9dd12dd78c15",
   "metadata": {},
   "outputs": [],
   "source": [
    "def fact(n):\n",
    "    if n<=1:\n",
    "        return 1\n",
    "    else:\n",
    "        return n*fact(n-1)\n",
    "    \n",
    "print([fact(i) for i in range(10)])"
   ]
  },
  {
   "cell_type": "markdown",
   "id": "075c2f37-32f6-4806-89a4-e7d45b879cc9",
   "metadata": {},
   "source": [
    "40. Check if two lists have at least one element in common."
   ]
  },
  {
   "cell_type": "code",
   "execution_count": null,
   "id": "b81760ad-bd59-44d2-8a03-35bcc5e9d309",
   "metadata": {},
   "outputs": [],
   "source": [
    "def check_common(a,b):\n",
    "    return any(i in b for i in a)\n",
    "\n",
    "list1=[1,2,3,4,5,6]\n",
    "list2=[1,2,3,5,3,12]\n",
    "if check_common(list1,list2):\n",
    "    print(\"The lists have atleast 1 common element\")\n",
    "else:\n",
    "    print(\"The lists have no common element\")"
   ]
  },
  {
   "cell_type": "markdown",
   "id": "bf98f47f-fb2a-4224-bb89-c6bf065492a5",
   "metadata": {},
   "source": [
    "41. Remove all elements from a list."
   ]
  },
  {
   "cell_type": "code",
   "execution_count": null,
   "id": "fc801fec-d58f-4e92-b58d-14611c385a50",
   "metadata": {},
   "outputs": [],
   "source": [
    "list1=[1,2,3,4,5,6]\n",
    "list1.clear()\n",
    "print(list1)"
   ]
  },
  {
   "cell_type": "markdown",
   "id": "1597a602-065b-4917-bdbd-fecc9376b501",
   "metadata": {},
   "source": [
    "42. Replace negative numbers in a list with 0."
   ]
  },
  {
   "cell_type": "code",
   "execution_count": null,
   "id": "b55d5253-40ff-4ce8-b7ab-a3fe182c3459",
   "metadata": {},
   "outputs": [],
   "source": [
    "lst=[1,-2,3,4,5,6,7,-8,7,8,5,3,-12]\n",
    "lst=list(map(lambda x: 0 if x<0 else x, lst))\n",
    "print(lst)"
   ]
  },
  {
   "cell_type": "markdown",
   "id": "d35ecc74-4ffe-4ac1-b2cd-41020c19c607",
   "metadata": {},
   "source": [
    "43. Convert a string into a list of words."
   ]
  },
  {
   "cell_type": "code",
   "execution_count": null,
   "id": "c17e5dae-316e-4ec7-b5f4-392cf8e480f1",
   "metadata": {},
   "outputs": [],
   "source": [
    "sen=input(\"Enter a string with multiple words: \")\n",
    "sen=sen.split()\n",
    "print(sen)"
   ]
  },
  {
   "cell_type": "markdown",
   "id": "fb535d5b-ca34-4119-a600-094678f4a4bb",
   "metadata": {},
   "source": [
    "44. Convert a list of words into a string."
   ]
  },
  {
   "cell_type": "code",
   "execution_count": null,
   "id": "980d91c4-5763-4c6c-8186-07062b80d15c",
   "metadata": {},
   "outputs": [],
   "source": [
    "lst=['I', 'am', 'Boy']\n",
    "lst=' '.join(lst)\n",
    "print(lst)"
   ]
  },
  {
   "cell_type": "markdown",
   "id": "f4e1994a-e0a0-480e-8e73-0a3a5c2e32f8",
   "metadata": {},
   "source": [
    "45. Create a list of the first `n` powers of 2."
   ]
  },
  {
   "cell_type": "code",
   "execution_count": null,
   "id": "16e91f4c-dee5-472e-9dd9-e3a014ce2e74",
   "metadata": {},
   "outputs": [],
   "source": [
    "n=int(input(\"Enter a value for n: \"))\n",
    "lst=[2**x for x in range(1,n+1)]\n",
    "print(lst)"
   ]
  },
  {
   "cell_type": "markdown",
   "id": "c9b2aeb8-8633-463e-a559-50285b20b0f8",
   "metadata": {},
   "source": [
    "46. Find the longest string in a list of strings."
   ]
  },
  {
   "cell_type": "code",
   "execution_count": null,
   "id": "8fe9d8c1-7508-4bc7-ba66-938bc763209c",
   "metadata": {},
   "outputs": [],
   "source": [
    "def longest_string(lst):\n",
    "    ct=0\n",
    "    ln=\"\"\n",
    "    for wd in lst:\n",
    "        if len(wd)>ct:\n",
    "            ct=len(wd)\n",
    "            ln=wd\n",
    "    \n",
    "    return ln\n",
    "\n",
    "lst=['elephant', 'hippopotamus', 'kangaroo', 'monkey', 'phantom', 'zird']\n",
    "print(f\"The longest word in the list is {longest_string(lst)}\")"
   ]
  },
  {
   "cell_type": "markdown",
   "id": "40c998e2-25a0-44e3-87a4-89c639ac180b",
   "metadata": {},
   "source": [
    "47. Find the shortest string in a list of strings."
   ]
  },
  {
   "cell_type": "code",
   "execution_count": null,
   "id": "7ae9da94-598f-45b3-b672-4d983ef56210",
   "metadata": {},
   "outputs": [],
   "source": [
    "def shortest_string(lst):\n",
    "    ct=len(lst[0])\n",
    "    ln=\"\"\n",
    "    for wd in lst:\n",
    "        if len(wd)<ct:\n",
    "            ct=len(wd)\n",
    "            ln=wd\n",
    "    \n",
    "    return ln\n",
    "\n",
    "lst=['elephant', 'hippopotamus', 'kangaroo', 'monkey', 'phantom', 'zird']\n",
    "print(f\"The shortest word in the list is {shortest_string(lst)}\")"
   ]
  },
  {
   "cell_type": "markdown",
   "id": "e62c77d2-9713-4d34-9e4b-4b35a57be877",
   "metadata": {},
   "source": [
    "48. Create a list of the first `n` triangular numbers."
   ]
  },
  {
   "cell_type": "code",
   "execution_count": null,
   "id": "4cb11dc6-9e64-471f-8cd0-4f073a607110",
   "metadata": {},
   "outputs": [],
   "source": [
    "n=int(input(\"Enter a value of n: \"))\n",
    "lst=list(map(lambda x: x*(x+1)//2, list(range(1,n+1))))\n",
    "print(lst)"
   ]
  },
  {
   "cell_type": "markdown",
   "id": "f4f725e4-bdda-4a66-ace2-ced6a1313b32",
   "metadata": {},
   "source": [
    "49. Check if a list contains another list as a subsequence."
   ]
  },
  {
   "cell_type": "code",
   "execution_count": null,
   "id": "3cc439bc-46f0-497d-ad47-f215936b4622",
   "metadata": {},
   "outputs": [],
   "source": [
    "def is_sub(lst1,lst2):\n",
    "    return all(x in lst1 for x in lst2)\n",
    "            \n",
    "\n",
    "list1 = [1, 2, 3, 4, 8, 9, 10]\n",
    "list2 = [3, 4, 89]\n",
    "if (is_sub(list1,list2)):\n",
    "    print(f\"'{list2}' is a subsequence of '{list1}'\")\n",
    "else:\n",
    "    print(f\"'{list2}' is not a subsequence of '{list1}'\")"
   ]
  },
  {
   "cell_type": "markdown",
   "id": "8984030c-441d-4067-ab11-380aac938b89",
   "metadata": {},
   "source": [
    "50. Swap two elements in a list by their indices."
   ]
  },
  {
   "cell_type": "code",
   "execution_count": null,
   "id": "c4a10af5-920f-4f11-8551-474f93fed5f2",
   "metadata": {},
   "outputs": [],
   "source": [
    "l=[1, 2, 3, 4, 8, 9, 10]\n",
    "print(\"Before swap: \",l)\n",
    "i1,i2=map(int ,input(\"Enter indices of elements to swap: \").split())\n",
    "t=l[i1]\n",
    "l[i1]=l[i2]\n",
    "l[i2]=t\n",
    "print(\"After swap: \",l)"
   ]
  },
  {
   "cell_type": "markdown",
   "id": "e32ad8bd-cfd7-4a0e-b68e-34d8b56f2d17",
   "metadata": {},
   "source": [
    "# Topic: Tuple based practice problem"
   ]
  },
  {
   "cell_type": "markdown",
   "id": "9cc4cb55-9cda-4f86-8bca-ee454bfe297f",
   "metadata": {},
   "source": [
    "1. Create a tuple with integers from 1 to 5."
   ]
  },
  {
   "cell_type": "code",
   "execution_count": null,
   "id": "b8977ee5-67e0-4c5b-810f-76b2eb0fae25",
   "metadata": {},
   "outputs": [],
   "source": [
    "tup=tuple(range(1,6))\n",
    "print(tup)"
   ]
  },
  {
   "cell_type": "markdown",
   "id": "e0f29080-824f-4bdc-b98a-702aa0288dc6",
   "metadata": {},
   "source": [
    "2. Access the third element of a tuple."
   ]
  },
  {
   "cell_type": "code",
   "execution_count": null,
   "id": "347907a9-a615-4839-94c8-9d3c2d6fb0aa",
   "metadata": {},
   "outputs": [],
   "source": [
    "tup=tuple(range(1,6))\n",
    "print(f\"3rd element of '{tup}':  {tup[2]}\")"
   ]
  },
  {
   "cell_type": "markdown",
   "id": "78472abf-1fe7-4569-8db5-48a2625864e8",
   "metadata": {},
   "source": [
    "3. Find the length of a tuple without using the len() function."
   ]
  },
  {
   "cell_type": "code",
   "execution_count": null,
   "id": "6af4eb9a-2a47-4481-b9ff-bb4f931dc999",
   "metadata": {},
   "outputs": [],
   "source": [
    "tup=tuple(range(1,6))\n",
    "ct=0\n",
    "for i in tup:\n",
    "    ct+=1\n",
    "    \n",
    "print(f\"Length of '{tup}' is:  {ct}\")"
   ]
  },
  {
   "cell_type": "markdown",
   "id": "080bc34a-a95c-45ae-94af-d9c8dda88680",
   "metadata": {},
   "source": [
    "4. Count the occurrences of an element in a tuple."
   ]
  },
  {
   "cell_type": "code",
   "execution_count": null,
   "id": "5198de95-591c-4a9e-8e62-6edb4e7bd5fb",
   "metadata": {},
   "outputs": [],
   "source": [
    "def check_ele(l, ele):\n",
    "    ct=0\n",
    "    if ele in l:\n",
    "        ct+=1\n",
    "    \n",
    "    return f\"{ele} occurs {ct} times in {l}\"\n",
    "\n",
    "tup=tuple(range(1,6))\n",
    "ele=int(input(\"Enter element to check: \"))\n",
    "check_ele(tup,ele)"
   ]
  },
  {
   "cell_type": "markdown",
   "id": "2d9aa594-358f-4d88-98f3-80cdc16bd30f",
   "metadata": {},
   "source": [
    "5. Find the index of the first occurrence of an element in a tuple."
   ]
  },
  {
   "cell_type": "code",
   "execution_count": null,
   "id": "f0248238-d171-4993-bffe-7e51ae24f852",
   "metadata": {},
   "outputs": [],
   "source": [
    "def check_ele(l, ele):\n",
    "    if ele in l:\n",
    "        return l.index(ele)\n",
    "    else:\n",
    "        return f\"{ele} not in {l}\"\n",
    "\n",
    "tup=tuple(range(1,6))\n",
    "ele=int(input(\"Enter element to check: \"))\n",
    "check_ele(tup,ele)"
   ]
  },
  {
   "cell_type": "markdown",
   "id": "8863b4d2-bb8c-4b53-b0cc-52fb06d533f7",
   "metadata": {},
   "source": [
    "6. Check if an element exists in a tuple."
   ]
  },
  {
   "cell_type": "code",
   "execution_count": null,
   "id": "68286713-c01e-409d-a1e0-6b2fbfe1dbee",
   "metadata": {},
   "outputs": [],
   "source": [
    "def check_ele(l, ele):\n",
    "    if ele in l:\n",
    "        return f\"{ele} exists in {l}\"\n",
    "    else:\n",
    "        return f\"{ele} does not exist in {l}\"\n",
    "\n",
    "tup=tuple(range(1,6))\n",
    "ele=int(input(\"Enter element to check: \"))\n",
    "check_ele(tup,ele)"
   ]
  },
  {
   "cell_type": "markdown",
   "id": "1bdb1df4-adc7-472f-bb8d-93c9e2d23b19",
   "metadata": {},
   "source": [
    "7. Convert a tuple to a list."
   ]
  },
  {
   "cell_type": "code",
   "execution_count": null,
   "id": "09c78c37-7b0e-4c0e-8fe4-cc65eba61a35",
   "metadata": {},
   "outputs": [],
   "source": [
    "tup=tuple(range(1,6))\n",
    "tup=list(tup)\n",
    "print(tup)"
   ]
  },
  {
   "cell_type": "markdown",
   "id": "217598b3-fce3-4e88-acd2-d45606fb0839",
   "metadata": {},
   "source": [
    "8. Convert a list to a tuple."
   ]
  },
  {
   "cell_type": "code",
   "execution_count": null,
   "id": "44bc9673-c432-4935-8aca-a9f0acf436c9",
   "metadata": {},
   "outputs": [],
   "source": [
    "lst=[x for x in range(1,6)]\n",
    "lst=tuple(lst)\n",
    "print(lst)"
   ]
  },
  {
   "cell_type": "markdown",
   "id": "3bccad6e-03f8-40ba-b22e-058b4a558578",
   "metadata": {},
   "source": [
    "9. Unpack the elements of a tuple into variables."
   ]
  },
  {
   "cell_type": "code",
   "execution_count": null,
   "id": "816e9810-1280-4cd3-9e90-a26615e59eb2",
   "metadata": {},
   "outputs": [],
   "source": [
    "a,b,c,d,e=tuple(map(int, input(\"Enter 5 numbers: \").split()))\n",
    "print(f\"\\na= {a}  \\nb= {b}  \\nc= {c}  \\nd= {d}  \\ne= {e}\")"
   ]
  },
  {
   "cell_type": "markdown",
   "id": "f257ba14-95a9-48fd-acc0-409279f070d0",
   "metadata": {},
   "source": [
    "10. Create a tuple of even numbers from 1 to 10."
   ]
  },
  {
   "cell_type": "code",
   "execution_count": null,
   "id": "f7a429bc-b699-4e74-b68f-1d37e5b7fac4",
   "metadata": {},
   "outputs": [],
   "source": [
    "tup=tuple(x for x in range(1,11) if x%2==0)\n",
    "print(tup)"
   ]
  },
  {
   "cell_type": "markdown",
   "id": "296542b7-5ea6-45ac-ad94-7d7055aa4c73",
   "metadata": {},
   "source": [
    "11. Create a tuple of odd numbers from 1 to 10."
   ]
  },
  {
   "cell_type": "code",
   "execution_count": null,
   "id": "6600cc3f-f82f-47d4-83e8-eada2b5d0785",
   "metadata": {},
   "outputs": [],
   "source": [
    "tup=tuple(x for x in range(1,11) if x%2!=0)\n",
    "print(tup)"
   ]
  },
  {
   "cell_type": "markdown",
   "id": "b067400a-c0cf-4b20-b35f-0024e420377a",
   "metadata": {},
   "source": [
    "12. Concatenate two tuples."
   ]
  },
  {
   "cell_type": "code",
   "execution_count": null,
   "id": "6fef51fc-350f-41ee-8183-1cd1becf8db4",
   "metadata": {},
   "outputs": [],
   "source": [
    "tup1=(2, 4, 6, 8, 10)\n",
    "tup2=(1, 3, 5, 7, 9)\n",
    "print(tup1+tup2)"
   ]
  },
  {
   "cell_type": "markdown",
   "id": "f3a08403-d13d-44f0-97f8-8dfd7e9edbf3",
   "metadata": {},
   "source": [
    "13. Repeat a tuple three times."
   ]
  },
  {
   "cell_type": "code",
   "execution_count": null,
   "id": "a9899a5e-7f6b-48f5-a6d7-fab304baed1b",
   "metadata": {},
   "outputs": [],
   "source": [
    "tup=(1, 3, 5, 7, 9)\n",
    "print(tup*3)"
   ]
  },
  {
   "cell_type": "markdown",
   "id": "87edc71a-a11c-49c0-8072-35180a11b66d",
   "metadata": {},
   "source": [
    "14. Check if a tuple is empty."
   ]
  },
  {
   "cell_type": "code",
   "execution_count": null,
   "id": "67263dc1-f3ca-4644-87ce-25291546ee7f",
   "metadata": {},
   "outputs": [],
   "source": [
    "tup=(1, 3, 5, 7, 9)\n",
    "print(\"Tuple is empty\" if len(tup)==0 else \"Tuple is not empty\")"
   ]
  },
  {
   "cell_type": "markdown",
   "id": "f2b612c2-a906-4342-b7d8-019a4239af30",
   "metadata": {},
   "source": [
    "15. Create a nested tuple."
   ]
  },
  {
   "cell_type": "code",
   "execution_count": null,
   "id": "e6140274-1d9c-498e-838e-6ee34ed8ede5",
   "metadata": {},
   "outputs": [],
   "source": [
    "tup=((1, 3), (5), (7, 9))\n",
    "print(tup)"
   ]
  },
  {
   "cell_type": "markdown",
   "id": "807efac0-80e3-4c1e-ae9a-50eb69863b82",
   "metadata": {},
   "source": [
    "16. Access the first element of a nested tuple."
   ]
  },
  {
   "cell_type": "code",
   "execution_count": null,
   "id": "075ab222-25ff-4f5a-91c0-26cea2bd7b99",
   "metadata": {},
   "outputs": [],
   "source": [
    "tup=((1, 3), (5), (7, 9))\n",
    "print(tup[0])"
   ]
  },
  {
   "cell_type": "markdown",
   "id": "20376893-f5e3-463f-89e6-0d7b70dfac6f",
   "metadata": {},
   "source": [
    "17. Create a tuple with a single element."
   ]
  },
  {
   "cell_type": "code",
   "execution_count": null,
   "id": "8d050fb6-62ed-43af-8043-bb0e24c02fc5",
   "metadata": {},
   "outputs": [],
   "source": [
    "tup=(5,)\n",
    "print(tup)"
   ]
  },
  {
   "cell_type": "markdown",
   "id": "e91397ad-f613-4726-ae2d-d620b096babd",
   "metadata": {},
   "source": [
    "18. Compare two tuples."
   ]
  },
  {
   "cell_type": "code",
   "execution_count": null,
   "id": "fe8c17b1-121a-4708-80d7-af2e6b303913",
   "metadata": {},
   "outputs": [],
   "source": [
    "tuple1 = (1, 2, 3)\n",
    "tuple2 = (1, 2, 4)\n",
    "\n",
    "print(\"tuple1 == tuple2:\", tuple1 == tuple2)  # Equality check\n",
    "print(\"tuple1 != tuple2:\", tuple1 != tuple2)  # Inequality check\n",
    "print(\"tuple1 < tuple2:\", tuple1 < tuple2)    # Less than check\n",
    "print(\"tuple1 <= tuple2:\", tuple1 <= tuple2)  # Less than or equal to check\n",
    "print(\"tuple1 > tuple2:\", tuple1 > tuple2)    # Greater than check\n",
    "print(\"tuple1 >= tuple2:\", tuple1 >= tuple2)  # Greater than or equal to check"
   ]
  },
  {
   "cell_type": "markdown",
   "id": "29bb65d0-3812-4a70-ae1f-c9ac64a94b76",
   "metadata": {},
   "source": [
    "19. Delete a tuple."
   ]
  },
  {
   "cell_type": "code",
   "execution_count": null,
   "id": "2e9a419f-18f4-4913-ad5b-af708decc636",
   "metadata": {},
   "outputs": [],
   "source": [
    "tup=((1, 3), (5), (7, 9))\n",
    "del tup\n",
    "print(tup)"
   ]
  },
  {
   "cell_type": "markdown",
   "id": "eb75e8ff-5ed6-4c81-8536-4c96ac6ff697",
   "metadata": {},
   "source": [
    "20. Slice a tuple."
   ]
  },
  {
   "cell_type": "code",
   "execution_count": null,
   "id": "aa3cfdad-3eb7-4b32-8c13-eb7525754d65",
   "metadata": {},
   "outputs": [],
   "source": [
    "tup=(2, 4, 6, 8, 10, 1, 3, 5, 7, 9)\n",
    "print(tup[1:6])"
   ]
  },
  {
   "cell_type": "markdown",
   "id": "8d809527-4a23-4d0f-8ed0-57726254ed85",
   "metadata": {},
   "source": [
    "21. Find the maximum value in a tuple."
   ]
  },
  {
   "cell_type": "code",
   "execution_count": null,
   "id": "4cd471f7-c925-44db-9c09-f9f5a69d9173",
   "metadata": {},
   "outputs": [],
   "source": [
    "tup=(2, 4, 6, 8, 10, 1, 3, 5, 7, 9)\n",
    "print(max(tup))"
   ]
  },
  {
   "cell_type": "markdown",
   "id": "f04c6731-3286-4fc4-a251-dfc57f066f82",
   "metadata": {},
   "source": [
    "22. Find the minimum value in a tuple."
   ]
  },
  {
   "cell_type": "code",
   "execution_count": null,
   "id": "30fe174e-9902-45c4-8a76-71a9d9cc2343",
   "metadata": {},
   "outputs": [],
   "source": [
    "tup=(2, 4, 6, 8, 10, 1, 3, 5, 7, 9)\n",
    "print(min(tup))"
   ]
  },
  {
   "cell_type": "markdown",
   "id": "42798c36-82b2-4bd2-a16f-60e368715738",
   "metadata": {},
   "source": [
    "23. Convert a string to a tuple of characters."
   ]
  },
  {
   "cell_type": "code",
   "execution_count": null,
   "id": "2563b381-3cf4-4a33-a84a-7d88aff02c61",
   "metadata": {},
   "outputs": [],
   "source": [
    "st=\"Ritwick\"\n",
    "print(tuple(st))"
   ]
  },
  {
   "cell_type": "markdown",
   "id": "fb8e49fd-edbf-4af2-91c4-cb1966e7d73b",
   "metadata": {},
   "source": [
    "24. Convert a tuple of characters to a string."
   ]
  },
  {
   "cell_type": "code",
   "execution_count": null,
   "id": "b061a0a5-6191-46d4-a304-f4b8b0fc92c6",
   "metadata": {},
   "outputs": [],
   "source": [
    "tup=('R', 'i', 't', 'w', 'i', 'c', 'k')\n",
    "tup=''.join(tup)\n",
    "print(tup)"
   ]
  },
  {
   "cell_type": "markdown",
   "id": "fdf6bde7-e376-4f65-8508-6b1499cbb98c",
   "metadata": {},
   "source": [
    "25. Create a tuple from multiple data types."
   ]
  },
  {
   "cell_type": "code",
   "execution_count": null,
   "id": "24db1ebe-5bc2-4342-b21a-28395834f800",
   "metadata": {},
   "outputs": [],
   "source": [
    "data=(\"Ritwick Roy\",23,\"Graduate\",(\"Piano\",\"Bass\",\"Guitar\"), True)\n",
    "print(data)"
   ]
  },
  {
   "cell_type": "markdown",
   "id": "195fee27-6e8e-4727-9c12-2b50ac2eb639",
   "metadata": {},
   "source": [
    "26. Check if two tuples are identical."
   ]
  },
  {
   "cell_type": "code",
   "execution_count": null,
   "id": "c75c6449-9bad-4702-ba83-3ab4de50de20",
   "metadata": {},
   "outputs": [],
   "source": [
    "tup1=(1,2,3)\n",
    "tup2=(1,2,3)\n",
    "tup3=(1,2,1)\n",
    "print(f\"'{tup1}' and '{tup2}' are identical: {tup1==tup2}\")\n",
    "print(f\"'{tup1}' and '{tup3}' are identical: {tup1==tup3}\")"
   ]
  },
  {
   "cell_type": "markdown",
   "id": "9e063d4b-d8f3-4e26-809c-46c3d681ecaf",
   "metadata": {},
   "source": [
    "27. Sort the elements of a tuple."
   ]
  },
  {
   "cell_type": "code",
   "execution_count": null,
   "id": "4c866665-9f59-461a-a0d5-251353441a48",
   "metadata": {},
   "outputs": [],
   "source": [
    "tup=(2, 4, 6, 8, 10, 1, 3, 5, 7, 9)\n",
    "tup=tuple(sorted(tup))\n",
    "print(tup)"
   ]
  },
  {
   "cell_type": "markdown",
   "id": "549fb081-80d3-48cc-9c0b-c8472910ee2e",
   "metadata": {},
   "source": [
    "28. Convert a tuple of integers to a tuple of strings."
   ]
  },
  {
   "cell_type": "code",
   "execution_count": null,
   "id": "86db38ff-b8e3-425d-82db-a19d89fc51be",
   "metadata": {},
   "outputs": [],
   "source": [
    "tup=(2, 4, 6, 8, 10, 1, 3, 5, 7, 9)\n",
    "tup=tuple(map(str, tup))\n",
    "print(tup)"
   ]
  },
  {
   "cell_type": "markdown",
   "id": "29197ce2-507e-44f3-8352-fb85196d985f",
   "metadata": {},
   "source": [
    "29. Convert a tuple of strings to a tuple of integers."
   ]
  },
  {
   "cell_type": "code",
   "execution_count": null,
   "id": "a5fd5b09-039e-49f1-ae2f-f2d87aec0556",
   "metadata": {},
   "outputs": [],
   "source": [
    "tup=('2', '4', '6', '8', '10', '1', '3', '5', '7', '9')\n",
    "tup=tuple(map(int, tup))\n",
    "print(tup)"
   ]
  },
  {
   "cell_type": "markdown",
   "id": "48f637ce-868c-43eb-9052-9f38298b3550",
   "metadata": {},
   "source": [
    "30. Merge two tuples."
   ]
  },
  {
   "cell_type": "code",
   "execution_count": null,
   "id": "22bef1c7-b7ee-43f3-9482-eaea9ba69eb5",
   "metadata": {},
   "outputs": [],
   "source": [
    "tup1=(2, 4, 6, 8, 10)\n",
    "tup2=(1, 3, 5, 7, 9)\n",
    "print(tup1+tup2)"
   ]
  },
  {
   "cell_type": "markdown",
   "id": "127a16cb-c8c9-40df-859d-11e465d73df5",
   "metadata": {},
   "source": [
    "31. Flatten a nested tuple."
   ]
  },
  {
   "cell_type": "code",
   "execution_count": null,
   "id": "3a8a97a6-4b81-466e-8b23-82d51256dc4f",
   "metadata": {},
   "outputs": [],
   "source": [
    "def flatten_tuple(nested_tuple):\n",
    "    stack = [nested_tuple]\n",
    "    flattened_list = []\n",
    "     \n",
    "    while stack:\n",
    "        top = stack.pop()\n",
    "        if isinstance(top, tuple):\n",
    "            stack.extend(top)\n",
    "        else:\n",
    "            flattened_list.append(top)\n",
    "     \n",
    "    return tuple(flattened_list)\n",
    "\n",
    "tup=((1, 3), (5), (7, 9))\n",
    "print(flatten_tuple(tup))"
   ]
  },
  {
   "cell_type": "markdown",
   "id": "e9c4eeb4-9a57-4f5f-a856-d637b6c16099",
   "metadata": {},
   "source": [
    "32. Create a tuple of the first 5 prime numbers."
   ]
  },
  {
   "cell_type": "code",
   "execution_count": null,
   "id": "87993a5e-57e3-42b7-b54b-17b2100b4e9c",
   "metadata": {},
   "outputs": [],
   "source": [
    "def check_prime(n):\n",
    "    ft=[x for x  in range(2,n) if n%x==0]\n",
    "    \n",
    "    if n<=1:\n",
    "        return False\n",
    "    elif len(ft)>0:\n",
    "        return False\n",
    "    else:\n",
    "        return True\n",
    "    \n",
    "ct=0\n",
    "res=[]\n",
    "for i in range(100):\n",
    "    if ct>=5:\n",
    "        break\n",
    "    else:\n",
    "        if check_prime(i):\n",
    "            res.append(i)\n",
    "            ct+=1\n",
    "            \n",
    "res=tuple(res)\n",
    "print(res)"
   ]
  },
  {
   "cell_type": "markdown",
   "id": "6b3c456e-8d7a-4805-ac99-8d186266b085",
   "metadata": {},
   "source": [
    "33. Check if a tuple is a palindrome."
   ]
  },
  {
   "cell_type": "code",
   "execution_count": null,
   "id": "55488212-078c-4b74-94e7-bb71bdd36eb7",
   "metadata": {},
   "outputs": [],
   "source": [
    "def check_palin(data):\n",
    "    temp=data=list(data)\n",
    "    temp.reverse()\n",
    "    return data==temp\n",
    "    \n",
    "tup=(1,2,1)\n",
    "print(f\"'{tup}' is palindrome: {check_palin(tup)}\")"
   ]
  },
  {
   "cell_type": "markdown",
   "id": "4602a3fe-9197-4b68-aac7-2e44f9cb057a",
   "metadata": {},
   "source": [
    "34. Create a tuple of squares of numbers from 1 to 5."
   ]
  },
  {
   "cell_type": "code",
   "execution_count": null,
   "id": "1e34066e-c145-4d18-9307-4ceb6b31fa7f",
   "metadata": {},
   "outputs": [],
   "source": [
    "tup=tuple(i**2 for i in range(1,6))\n",
    "print(tup)"
   ]
  },
  {
   "cell_type": "markdown",
   "id": "b7e7bcc6-759c-4173-aa3d-61eca1144c62",
   "metadata": {},
   "source": [
    "35. Filter out all even numbers from a tuple."
   ]
  },
  {
   "cell_type": "code",
   "execution_count": null,
   "id": "26930373-740b-417e-965c-fe529c3da025",
   "metadata": {},
   "outputs": [],
   "source": [
    "tup=(1,2,3,4,5,6,7,8,9)\n",
    "filter_tup=tuple(x for x in tup if x%2==0)\n",
    "print(filter_tup)"
   ]
  },
  {
   "cell_type": "markdown",
   "id": "e27d04f1-85f0-4be8-8e7a-420b5ea8bf8c",
   "metadata": {},
   "source": [
    "36. Multiply all elements in a tuple by 2."
   ]
  },
  {
   "cell_type": "code",
   "execution_count": null,
   "id": "d43b5358-5592-4a32-9c02-a1c5489f3e6d",
   "metadata": {},
   "outputs": [],
   "source": [
    "tup=(1,2,3,4,5,6,7,8,9)\n",
    "tup=tuple(x*2 for x in tup)\n",
    "print(tup)"
   ]
  },
  {
   "cell_type": "markdown",
   "id": "1f4e91f2-d812-44c2-808d-3023cda42451",
   "metadata": {},
   "source": [
    "37. Create a tuple of random numbers."
   ]
  },
  {
   "cell_type": "code",
   "execution_count": null,
   "id": "4685e72e-284d-4b45-8bfe-c885668c6443",
   "metadata": {},
   "outputs": [],
   "source": [
    "import random as rnd\n",
    "tup=tuple(rnd.randint(1,100) for x in range(1,11))\n",
    "print(tup)"
   ]
  },
  {
   "cell_type": "markdown",
   "id": "ee53a113-2650-465e-9a5d-3d2ee9b9dc2d",
   "metadata": {},
   "source": [
    "38. Check if a tuple is sorted."
   ]
  },
  {
   "cell_type": "code",
   "execution_count": null,
   "id": "d234f315-e1b7-405f-8f33-1a9fb255ecc5",
   "metadata": {},
   "outputs": [],
   "source": [
    "def check_sorted(bleh):\n",
    "    temp=sorted(list(bleh))\n",
    "    return tuple(temp)==bleh\n",
    "\n",
    "tup1=(41, 21, 96, 6, 85, 72, 90, 15, 78, 65)\n",
    "tup2=(1,2,3,4,5,6,7,8,9)\n",
    "\n",
    "print(f\"'{tup1}' is sorted: {check_sorted(tup1)}\")\n",
    "print(f\"'{tup2}' is sorted: {check_sorted(tup2)}\")"
   ]
  },
  {
   "cell_type": "markdown",
   "id": "882aa21b-0c4f-48c9-9c60-0c99a193bc0c",
   "metadata": {},
   "source": [
    "39. Rotate a tuple to the left by `n` positions."
   ]
  },
  {
   "cell_type": "code",
   "execution_count": null,
   "id": "45bd20fe-e4f1-4250-894a-58fdc9bb4ea9",
   "metadata": {},
   "outputs": [],
   "source": [
    "tup=(1,2,3,4,5,6,7)\n",
    "n=int(input(\"Enter no. of positions to rotate: \"))\n",
    "n=n%len(tup)\n",
    "res=tup[n::]+tup[:n:]\n",
    "print(res)"
   ]
  },
  {
   "cell_type": "markdown",
   "id": "64fe101e-1429-46b2-81c0-1716777b124e",
   "metadata": {},
   "source": [
    "40. Rotate a tuple to the right by `n` positions."
   ]
  },
  {
   "cell_type": "code",
   "execution_count": null,
   "id": "c1752dc4-1640-45d3-80f2-a105d5991e9f",
   "metadata": {},
   "outputs": [],
   "source": [
    "tup=(1,2,3,4,5,6,7)\n",
    "n=int(input(\"Enter no. of positions to rotate: \"))\n",
    "n=n%len(tup)\n",
    "res=tup[-n::]+tup[:-n:]\n",
    "print(res)"
   ]
  },
  {
   "cell_type": "markdown",
   "id": "030363e9-cb5a-4e82-a55d-ae8b9c177c08",
   "metadata": {},
   "source": [
    "41. Create a tuple of the first 5 Fibonacci numbers."
   ]
  },
  {
   "cell_type": "code",
   "execution_count": null,
   "id": "d94cd549-2056-46e2-ae63-4de27a8b2614",
   "metadata": {},
   "outputs": [],
   "source": [
    "def get_fibo(n):\n",
    "    if n<=1:\n",
    "        return 1\n",
    "    else:\n",
    "        return get_fibo(n-1)+get_fibo(n-2)\n",
    "    \n",
    "tup=tuple(get_fibo(x) for x in range(0,5))\n",
    "print(tup)"
   ]
  },
  {
   "cell_type": "markdown",
   "id": "70b988e4-6511-4922-b42e-65ec7aa7dc10",
   "metadata": {},
   "source": [
    "42. Create a tuple from user input."
   ]
  },
  {
   "cell_type": "code",
   "execution_count": null,
   "id": "287b4360-2107-44b1-987d-a30accd5391b",
   "metadata": {},
   "outputs": [],
   "source": [
    "tup=tuple(input(\"Enter tuple elements separated by space: \").split())\n",
    "print(tup)"
   ]
  },
  {
   "cell_type": "markdown",
   "id": "14034392-1771-4b75-ba33-1abce61e718b",
   "metadata": {},
   "source": [
    "43. Swap two elements in a tuple."
   ]
  },
  {
   "cell_type": "code",
   "execution_count": null,
   "id": "f3c290de-d4cb-4798-a726-42c498313bc0",
   "metadata": {},
   "outputs": [],
   "source": [
    "tup=(1,2,3,4,5,6,7)\n",
    "tup=list(tup)\n",
    "m,n=map(int,input(\"Enter indexes of elements to swap: \").split())\n",
    "temp=tup[m]\n",
    "tup[m]=tup[n]\n",
    "tup[n]=temp\n",
    "tup=tuple(tup)\n",
    "print(tup)"
   ]
  },
  {
   "cell_type": "markdown",
   "id": "38189aed-0045-466c-ae7f-359afbcac7c5",
   "metadata": {},
   "source": [
    "44. Reverse the elements of a tuple."
   ]
  },
  {
   "cell_type": "code",
   "execution_count": null,
   "id": "07ce8a45-4cfc-4966-8b6c-0422227f4246",
   "metadata": {},
   "outputs": [],
   "source": [
    "tup=(1,2,3,4,5,6,7)\n",
    "tup=list(tup)\n",
    "tup=tup[::-1]\n",
    "tup=tuple(tup)\n",
    "print(tup)"
   ]
  },
  {
   "cell_type": "markdown",
   "id": "4c390db5-b69a-4853-9880-9a26c78247db",
   "metadata": {},
   "source": [
    "45. Create a tuple of the first `n` powers of 2."
   ]
  },
  {
   "cell_type": "code",
   "execution_count": null,
   "id": "e5602cba-2790-403a-9572-d29cbcf13786",
   "metadata": {},
   "outputs": [],
   "source": [
    "n=int(input(\"Enter value of n: \"))\n",
    "tup=tuple(2**n for n in range(1,n+1))\n",
    "print(tup)"
   ]
  },
  {
   "cell_type": "markdown",
   "id": "03685c10-9a48-46bd-8294-e6b94c0c6220",
   "metadata": {},
   "source": [
    "46. Find the longest string in a tuple of strings."
   ]
  },
  {
   "cell_type": "code",
   "execution_count": null,
   "id": "ccef3e9b-d3f7-4006-980d-d547a496dced",
   "metadata": {},
   "outputs": [],
   "source": [
    "def longest_string(lst):\n",
    "    ct=len(lst[0])\n",
    "    ln=\"\"\n",
    "    for wd in lst:\n",
    "        if len(wd)>ct:\n",
    "            ct=len(wd)\n",
    "            ln=wd\n",
    "    \n",
    "    return ln\n",
    "\n",
    "tup=('elephant', 'hippopotamus', 'kangaroo', 'monkey', 'phantom', 'zird')\n",
    "print(f\"The longest word in the tuple is {longest_string(tup)}\")"
   ]
  },
  {
   "cell_type": "markdown",
   "id": "419ebbe2-85e1-461e-b591-cf569460ea41",
   "metadata": {},
   "source": [
    "47. Find the shortest string in a tuple of strings."
   ]
  },
  {
   "cell_type": "code",
   "execution_count": null,
   "id": "19b7de80-6b27-4ec5-b953-7febb1cc4441",
   "metadata": {},
   "outputs": [],
   "source": [
    "def shortest_string(lst):\n",
    "    ct=len(lst[0])\n",
    "    ln=\"\"\n",
    "    for wd in lst:\n",
    "        if len(wd)<ct:\n",
    "            ct=len(wd)\n",
    "            ln=wd\n",
    "    \n",
    "    return ln\n",
    "\n",
    "tup=('elephant', 'hippopotamus', 'kangaroo', 'monkey', 'phantom', 'zird')\n",
    "print(f\"The shortest word in the tuple is {shortest_string(tup)}\")"
   ]
  },
  {
   "cell_type": "markdown",
   "id": "995565af-b02e-495d-9edd-67800bece11f",
   "metadata": {},
   "source": [
    "48. Create a tuple of the first `n` triangular numbers."
   ]
  },
  {
   "cell_type": "code",
   "execution_count": null,
   "id": "d6824bce-c524-4a86-b929-4514c62c8bf6",
   "metadata": {},
   "outputs": [],
   "source": [
    "n=int(input(\"Enter a value of n: \"))\n",
    "tup=tuple(map(lambda x: x*(x+1)//2, list(range(1,n+1))))\n",
    "print(tup)"
   ]
  },
  {
   "cell_type": "markdown",
   "id": "38fefba8-43c5-4430-b2fe-5b8b707b9532",
   "metadata": {},
   "source": [
    "49. Check if a tuple contains another tuple as a subsequence."
   ]
  },
  {
   "cell_type": "code",
   "execution_count": null,
   "id": "ac73cfea-ab24-4c2f-a722-c11210177bbb",
   "metadata": {},
   "outputs": [],
   "source": [
    "def is_sub(tup1,tup2):\n",
    "    return all(x in tup1 for x in tup2)\n",
    "            \n",
    "\n",
    "tup1 = (1, 2, 3, 4, 8, 9, 10)\n",
    "tup2 = (3, 4, 8)\n",
    "if (is_sub(tup1,tup2)):\n",
    "    print(f\"'{tup2}' is a subsequence of '{tup1}'\")\n",
    "else:\n",
    "    print(f\"'{tup2}' is not a subsequence of '{tup1}'\")"
   ]
  },
  {
   "cell_type": "markdown",
   "id": "8270bd82-95fe-4965-b26a-f2ce0d48bceb",
   "metadata": {},
   "source": [
    "50. Create a tuple of alternating 1s and 0s of length `n`."
   ]
  },
  {
   "cell_type": "code",
   "execution_count": null,
   "id": "ce0541a9-3d54-4a75-844c-6806e3affc82",
   "metadata": {},
   "outputs": [],
   "source": [
    "n=int(input(\"Enter value of n: \"))\n",
    "tup=tuple(map(lambda x: 0 if x%2==0 else 1, [n for n in range(1,n+1)]))\n",
    "print(tup)"
   ]
  },
  {
   "cell_type": "markdown",
   "id": "68152867-7f11-4d3c-8024-625bdaa0d807",
   "metadata": {},
   "source": [
    "# TOPIC: Set Based Practice Problem"
   ]
  },
  {
   "cell_type": "markdown",
   "id": "8e796676-d3a0-437b-b1bd-47e0f363820a",
   "metadata": {},
   "source": [
    "1. Create a set with integers from 1 to 5."
   ]
  },
  {
   "cell_type": "code",
   "execution_count": null,
   "id": "d7d663a0-15f7-4cfa-b18a-5c97e50d2907",
   "metadata": {},
   "outputs": [],
   "source": [
    "my_set=set(x for x in range(1,6))\n",
    "print(my_set)"
   ]
  },
  {
   "cell_type": "markdown",
   "id": "6e6d5e30-5030-4ef5-93fe-a94ed72ebe2c",
   "metadata": {},
   "source": [
    "2. Add an element to a set."
   ]
  },
  {
   "cell_type": "code",
   "execution_count": null,
   "id": "84318a2c-1856-4303-bbbf-2031fd3a35b0",
   "metadata": {},
   "outputs": [],
   "source": [
    "my_set=set(x for x in range(1,6))\n",
    "n=int(input(\"Enter element to add to set: \"))\n",
    "my_set.add(n)\n",
    "print(my_set)"
   ]
  },
  {
   "cell_type": "markdown",
   "id": "b2834409-64a2-4cc0-acb9-ae76f5bbd978",
   "metadata": {},
   "source": [
    "3. Remove an element from a set."
   ]
  },
  {
   "cell_type": "code",
   "execution_count": null,
   "id": "697ca11c-ea7f-404c-9720-6283f74c4337",
   "metadata": {},
   "outputs": [],
   "source": [
    "my_set=set(x for x in range(1,6))\n",
    "print(my_set)\n",
    "n=int(input(\"Enter element to remove from set: \"))\n",
    "my_set.remove(n)\n",
    "print(my_set)"
   ]
  },
  {
   "cell_type": "markdown",
   "id": "40dc2fd2-5ab8-44b0-b374-50e3cb9bcdef",
   "metadata": {},
   "source": [
    "4. Check if an element exists in a set."
   ]
  },
  {
   "cell_type": "code",
   "execution_count": null,
   "id": "dbd2fe0f-b22e-45dc-9f1f-e58dc53816de",
   "metadata": {},
   "outputs": [],
   "source": [
    "my_set=set(x for x in range(1,9))\n",
    "n=int(input(\"Enter element to search in set: \"))\n",
    "if n  in my_set:\n",
    "\tprint(f\"'{n}' is present in set: '{my_set}'\")\n",
    "else:\n",
    "    print(f\"'{n}' is not present in set: '{my_set}'\")"
   ]
  },
  {
   "cell_type": "markdown",
   "id": "44e3bb7e-f84a-4258-9456-8f38e75327e5",
   "metadata": {},
   "source": [
    "5. Find the length of a set without using the `len()` function."
   ]
  },
  {
   "cell_type": "code",
   "execution_count": null,
   "id": "23ec2e8f-d87f-487f-bb17-ceabad9a44cb",
   "metadata": {},
   "outputs": [],
   "source": [
    "def get_length(s):\n",
    "    ct=0\n",
    "    for i in s:\n",
    "        ct+=1\n",
    "        \n",
    "    return ct\n",
    "\n",
    "my_set=set(x for x in range(1,9))\n",
    "print(f\"Length of '{my_set}' is: {get_length(my_set)}\")"
   ]
  },
  {
   "cell_type": "markdown",
   "id": "8982c906-bb73-4dd4-a27e-68856fdf3e5b",
   "metadata": {},
   "source": [
    "6. Clear all elements from a set."
   ]
  },
  {
   "cell_type": "code",
   "execution_count": null,
   "id": "879a1d21-0848-4bbb-bb00-5ba7aa5ad5b8",
   "metadata": {},
   "outputs": [],
   "source": [
    "my_set=set(x for x in range(1,9))\n",
    "print(\"Before clearing: \",my_set)\n",
    "my_set.clear()\n",
    "print(\"After clearing: \",my_set)"
   ]
  },
  {
   "cell_type": "markdown",
   "id": "27035ebb-bbbe-4acf-8ede-807ebd905e9d",
   "metadata": {},
   "source": [
    "7. Create a set of even numbers from 1 to 10."
   ]
  },
  {
   "cell_type": "code",
   "execution_count": null,
   "id": "4125ad4f-7437-48ed-a73e-7a64919d27cf",
   "metadata": {},
   "outputs": [],
   "source": [
    "my_set=set(x for x in range(1,11) if x%2==0)\n",
    "print(my_set)"
   ]
  },
  {
   "cell_type": "markdown",
   "id": "48c0c3ff-82d0-4718-9c5d-77bd2bb78962",
   "metadata": {},
   "source": [
    "8. Create a set of odd numbers from 1 to 10."
   ]
  },
  {
   "cell_type": "code",
   "execution_count": null,
   "id": "2255a600-a5d0-42ee-87e2-16b67c49767f",
   "metadata": {},
   "outputs": [],
   "source": [
    "my_set=set(x for x in range(1,11) if x%2!=0)\n",
    "print(my_set)"
   ]
  },
  {
   "cell_type": "markdown",
   "id": "c0ef40c5-dfda-4de2-b777-281123eb32fd",
   "metadata": {},
   "source": [
    "9. Find the union of two sets."
   ]
  },
  {
   "cell_type": "code",
   "execution_count": null,
   "id": "0897daa0-704b-4bce-bc51-7a62f10b919b",
   "metadata": {},
   "outputs": [],
   "source": [
    "set1={2, 4, 6, 8, 10}\n",
    "set2={1, 3, 5, 7, 9}\n",
    "res=set1.union(set2)\n",
    "print(res)"
   ]
  },
  {
   "cell_type": "markdown",
   "id": "581b2fcf-b93f-4499-a70d-5d587fafc0b4",
   "metadata": {},
   "source": [
    "10. Find the intersection of two sets."
   ]
  },
  {
   "cell_type": "code",
   "execution_count": null,
   "id": "10a1ca03-376d-4648-8cda-cfbf601bbec8",
   "metadata": {},
   "outputs": [],
   "source": [
    "set1={2, 4, 45, 6, 8, 10}\n",
    "set2={1, 3, 45, 5, 7, 9}\n",
    "res=set1.intersection(set2)\n",
    "print(res)"
   ]
  },
  {
   "cell_type": "markdown",
   "id": "ec081424-e08a-43ca-bc5a-9e5cc8d3b5cc",
   "metadata": {},
   "source": [
    "11. Find the difference between two sets."
   ]
  },
  {
   "cell_type": "code",
   "execution_count": null,
   "id": "d0d36578-8d4a-4a34-bb3d-48de367f574d",
   "metadata": {},
   "outputs": [],
   "source": [
    "set1={2, 4, 45, 6, 8, 10}\n",
    "set2={1, 3, 45, 5, 7, 9}\n",
    "res=set1.difference(set2)\n",
    "print(res)"
   ]
  },
  {
   "cell_type": "markdown",
   "id": "e4069c4c-9898-4547-bb83-4f909b5cf82f",
   "metadata": {},
   "source": [
    "12. Check if a set is a subset of another set."
   ]
  },
  {
   "cell_type": "code",
   "execution_count": null,
   "id": "b408d8ba-a8d2-4b85-b739-a054426f78c4",
   "metadata": {},
   "outputs": [],
   "source": [
    "set1={2, 4, 45, 6, 8, 10}\n",
    "set2={2, 4, 8}\n",
    "res=set2.issubset(set1)\n",
    "print(res)"
   ]
  },
  {
   "cell_type": "markdown",
   "id": "2d3f255e-1dc2-4fed-b9b9-642996aa1bb2",
   "metadata": {},
   "source": [
    "13. Check if a set is a superset of another set."
   ]
  },
  {
   "cell_type": "code",
   "execution_count": null,
   "id": "7d688461-e99b-4fe9-8022-d654bdf6f1a0",
   "metadata": {},
   "outputs": [],
   "source": [
    "set1={2, 4, 45, 6, 8, 10}\n",
    "set2={2, 4, 8}\n",
    "res=set1.issuperset(set2)\n",
    "print(res)"
   ]
  },
  {
   "cell_type": "markdown",
   "id": "edb9c853-0879-4b7f-983b-b9b357878d6d",
   "metadata": {},
   "source": [
    "14. Create a set from a list."
   ]
  },
  {
   "cell_type": "code",
   "execution_count": null,
   "id": "a4b12122-eb5b-4b5d-949c-99cdcb60e45c",
   "metadata": {},
   "outputs": [],
   "source": [
    "lst=[x for x in range(1,13)]\n",
    "my_set=set(x for x in lst if x%2==0)\n",
    "print(my_set)"
   ]
  },
  {
   "cell_type": "markdown",
   "id": "1831f07e-b4c9-4168-95a2-03d48e102cdf",
   "metadata": {},
   "source": [
    "15. Convert a set to a list."
   ]
  },
  {
   "cell_type": "code",
   "execution_count": null,
   "id": "232aee72-5416-4798-9651-c959a25fc602",
   "metadata": {},
   "outputs": [],
   "source": [
    "lst=[x for x in range(1,13)]\n",
    "my_set=set(lst)\n",
    "print(my_set)"
   ]
  },
  {
   "cell_type": "markdown",
   "id": "118e8dea-e7fd-4b31-9a8b-750ac1847551",
   "metadata": {},
   "source": [
    "16. Remove a random element from a set."
   ]
  },
  {
   "cell_type": "code",
   "execution_count": null,
   "id": "f48cfb3e-2d06-4967-bbd7-d8615e449b3d",
   "metadata": {},
   "outputs": [],
   "source": [
    "import random\n",
    "my_set=set(x for x in range(1,11))\n",
    "print(\"Before random remove operation: \",my_set)\n",
    "my_set.remove(random.choice(list(my_set)))\n",
    "print(\"After random remove operation: \",my_set)"
   ]
  },
  {
   "cell_type": "markdown",
   "id": "e48ca0a6-149b-4896-bd2b-0288b46fd269",
   "metadata": {},
   "source": [
    "17. Pop an element from a set."
   ]
  },
  {
   "cell_type": "code",
   "execution_count": null,
   "id": "f9ee2cc9-6b9c-4ba1-99c7-46a2f5be96c4",
   "metadata": {},
   "outputs": [],
   "source": [
    "my_set=set(x for x in range(1,11))\n",
    "print(my_set)\n",
    "print(\"Popped element: \",my_set.pop())"
   ]
  },
  {
   "cell_type": "markdown",
   "id": "1132b961-8c50-4a99-91ad-08e3804e8189",
   "metadata": {},
   "source": [
    "18. Check if two sets have no elements in common."
   ]
  },
  {
   "cell_type": "code",
   "execution_count": null,
   "id": "524e1473-6ba5-4f69-b305-b666522fb189",
   "metadata": {},
   "outputs": [],
   "source": [
    "set1={2, 4, 6, 8, 10}\n",
    "set2={1, 3, 5, 7, 9}\n",
    "res=0 if set1.intersection(set2)==set() else True\n",
    "print(\"Set 1: \",set1)\n",
    "print(\"Set 2: \",set2)\n",
    "print(\"Common elements in the sets: \",res)"
   ]
  },
  {
   "cell_type": "markdown",
   "id": "2af113b0-58d5-47ff-b66e-f84bd8c044f8",
   "metadata": {},
   "source": [
    "19. Find the symmetric difference between two sets."
   ]
  },
  {
   "cell_type": "code",
   "execution_count": null,
   "id": "a5494e96-2e93-4d3d-bc58-7539147f47b5",
   "metadata": {},
   "outputs": [],
   "source": [
    "set1={2, 4, 45, 6, 8, 10}\n",
    "set2={2, 4, 8}\n",
    "res=set1.symmetric_difference(set2)\n",
    "print(res)"
   ]
  },
  {
   "cell_type": "markdown",
   "id": "e08a8e87-ced8-4dcc-8686-570ca71f0ecf",
   "metadata": {},
   "source": [
    "20. Update a set with elements from another set."
   ]
  },
  {
   "cell_type": "code",
   "execution_count": null,
   "id": "0c9af959-9cc0-494f-816a-ad1fede13400",
   "metadata": {},
   "outputs": [],
   "source": [
    "set1={2, 4, 45, 6, 8, 10}\n",
    "print(\"Before update: \",set1)\n",
    "set2={1, 3, 5, 7}\n",
    "set1.update(set2)\n",
    "print(\"After update: \",set1)"
   ]
  },
  {
   "cell_type": "markdown",
   "id": "97a1037e-ec38-4e36-bc82-0d2fa6fee488",
   "metadata": {},
   "source": [
    "21. Create a set of the first 5 prime numbers."
   ]
  },
  {
   "cell_type": "code",
   "execution_count": null,
   "id": "3e550d6b-41cf-4b53-bd23-25c716a8cd15",
   "metadata": {},
   "outputs": [],
   "source": [
    "my_set={2,3,5,7,11}\n",
    "print(my_set)"
   ]
  },
  {
   "cell_type": "markdown",
   "id": "e29e9ee5-16c7-4506-97e2-204991ddf87c",
   "metadata": {},
   "source": [
    "22. Check if two sets are identical."
   ]
  },
  {
   "cell_type": "code",
   "execution_count": null,
   "id": "86a9ab39-9efc-4727-a9c0-29c3893a5996",
   "metadata": {},
   "outputs": [],
   "source": [
    "set1={1,2,3}\n",
    "set2={1,2,3}\n",
    "set3={3,4,5}\n",
    "print(f\"'{set1}' is identical to '{set2}': {set1==set2}\")\n",
    "print(f\"'{set2}' is identical to '{set3}': {set3==set2}\")"
   ]
  },
  {
   "cell_type": "markdown",
   "id": "6ab19ce3-ddbe-4428-9ad5-7b155c9de0f6",
   "metadata": {},
   "source": [
    "23. Create a frozen set."
   ]
  },
  {
   "cell_type": "code",
   "execution_count": null,
   "id": "66506b7a-dc9c-429d-88b5-237186efa617",
   "metadata": {},
   "outputs": [],
   "source": [
    "my_set={2,3,5,7,11}\n",
    "my_frozenset=frozenset(my_set)\n",
    "print(my_frozenset)"
   ]
  },
  {
   "cell_type": "markdown",
   "id": "d73e8165-7852-48e1-a469-322ef3861a14",
   "metadata": {},
   "source": [
    "24. Check if a set is disjoint with another set."
   ]
  },
  {
   "cell_type": "code",
   "execution_count": null,
   "id": "ee1f5296-54c7-42e4-abfd-741327438382",
   "metadata": {},
   "outputs": [],
   "source": [
    "set1={2, 4, 45, 6, 8, 10}\n",
    "set2={1, 3, 5, 7}\n",
    "print(f\"Are '{set1}' and '{set2}' disjoint? : {set1.isdisjoint(set2)}\")"
   ]
  },
  {
   "cell_type": "markdown",
   "id": "e4e592e3-0503-4e81-879c-5a8b6a9892c4",
   "metadata": {},
   "source": [
    "25. Create a set of squares of numbers from 1 to 5."
   ]
  },
  {
   "cell_type": "code",
   "execution_count": null,
   "id": "fa71133a-8850-41ed-a3f1-0de6f81d9bf5",
   "metadata": {},
   "outputs": [],
   "source": [
    "my_set=set(x**2 for x in range(1,6))\n",
    "print(my_set)"
   ]
  },
  {
   "cell_type": "markdown",
   "id": "6296ae31-5318-49f0-abb7-b2bb58010b53",
   "metadata": {},
   "source": [
    "26. Filter out all even numbers from a set."
   ]
  },
  {
   "cell_type": "code",
   "execution_count": 4,
   "id": "2040338b-025b-45e3-8171-4e2a558bc923",
   "metadata": {},
   "outputs": [
    {
     "name": "stdout",
     "output_type": "stream",
     "text": [
      "Original set: {1, 2, 3, 4, 5, 6, 7, 8, 9, 10, 11, 12}\n",
      "Filtered set: {2, 4, 6, 8, 10, 12}\n"
     ]
    }
   ],
   "source": [
    "my_set=set(x for x in range(1,13))\n",
    "print(f\"Original set: {my_set}\")\n",
    "filtered_set=set(x for x in my_set if x%2==0)\n",
    "print(f\"Filtered set: {filtered_set}\")"
   ]
  },
  {
   "cell_type": "markdown",
   "id": "cb07ee17-38dd-4209-9e13-a47c32ce6a75",
   "metadata": {},
   "source": [
    "27. Multiply all elements in a set by 2."
   ]
  },
  {
   "cell_type": "code",
   "execution_count": 7,
   "id": "16b0fb42-d791-4762-88bb-4976608741d1",
   "metadata": {},
   "outputs": [
    {
     "name": "stdout",
     "output_type": "stream",
     "text": [
      "Original set: {1, 2, 3, 4, 5}\n",
      "Modified set: {2, 4, 6, 8, 10}\n"
     ]
    }
   ],
   "source": [
    "my_set=set(x for x in range(1,6))\n",
    "print(f\"Original set: {my_set}\")\n",
    "filtered_set=set(x*2 for x in my_set)\n",
    "print(f\"Modified set: {filtered_set}\")"
   ]
  },
  {
   "cell_type": "markdown",
   "id": "bcaadc78-2c81-46d7-b32a-360087eb91d0",
   "metadata": {},
   "source": [
    "28. Create a set of random numbers."
   ]
  },
  {
   "cell_type": "code",
   "execution_count": 15,
   "id": "09ded6c0-869c-4261-ae1c-26db2c2e2f6e",
   "metadata": {},
   "outputs": [
    {
     "name": "stdout",
     "output_type": "stream",
     "text": [
      "{64, 0, 32, 4, 73, 51, 21, 85, 86, 59}\n"
     ]
    }
   ],
   "source": [
    "import random\n",
    "my_set=set(random.randint(0,100) for x in range(1,11))\n",
    "print(my_set)"
   ]
  },
  {
   "cell_type": "markdown",
   "id": "8d424ad7-8257-4382-b265-733d575c9444",
   "metadata": {},
   "source": [
    "29. Check if a set is empty."
   ]
  },
  {
   "cell_type": "code",
   "execution_count": 16,
   "id": "57101981-31da-4611-8997-513283af77f4",
   "metadata": {},
   "outputs": [
    {
     "name": "stdout",
     "output_type": "stream",
     "text": [
      "Set is empty\n"
     ]
    }
   ],
   "source": [
    "my_set=set()\n",
    "if not my_set:\n",
    "    print(\"Set is empty\")\n",
    "else:\n",
    "    print(\"Not empty\")"
   ]
  },
  {
   "cell_type": "markdown",
   "id": "6f434648-6c3f-4292-8f19-2ffa1b0813a5",
   "metadata": {},
   "source": [
    "30. Create a nested set (hint: use frozenset)."
   ]
  },
  {
   "cell_type": "code",
   "execution_count": 17,
   "id": "2c800923-abc7-424b-94c8-8a6a8778cc29",
   "metadata": {},
   "outputs": [
    {
     "name": "stdout",
     "output_type": "stream",
     "text": [
      "Nested Set: {frozenset({1, 2, 3, 4, 5}), frozenset({6, 7, 8, 9, 10})}\n"
     ]
    }
   ],
   "source": [
    "set1 = {1, 2, 3, 4, 5}\n",
    "set2 = {6, 7, 8, 9, 10}\n",
    "frozen_set1 = frozenset(set1)\n",
    "frozen_set2 = frozenset(set2)\n",
    "nested_set = {frozen_set1, frozen_set2}\n",
    "print(\"Nested Set:\", nested_set)"
   ]
  },
  {
   "cell_type": "markdown",
   "id": "02c10d61-6e20-41c5-ad8b-bfbf1991257f",
   "metadata": {},
   "source": [
    "31. Remove an element from a set using the discard method."
   ]
  },
  {
   "cell_type": "code",
   "execution_count": 18,
   "id": "09b6bde2-fd87-461e-8036-b7b96029b74d",
   "metadata": {},
   "outputs": [
    {
     "name": "stdout",
     "output_type": "stream",
     "text": [
      "Original set: {1, 2, 3, 4, 5}\n"
     ]
    },
    {
     "name": "stdin",
     "output_type": "stream",
     "text": [
      "Enter element to remove:  5\n"
     ]
    },
    {
     "name": "stdout",
     "output_type": "stream",
     "text": [
      "Set after removing 5 : {1, 2, 3, 4}\n"
     ]
    }
   ],
   "source": [
    "my_set = {1, 2, 3, 4, 5}\n",
    "print(\"Original set:\", my_set)\n",
    "ele=int(input(\"Enter element to remove: \"))\n",
    "my_set.discard(ele)\n",
    "print(\"Set after removing\", ele, \":\", my_set)"
   ]
  },
  {
   "cell_type": "markdown",
   "id": "0838c8da-83f6-4ec2-bf09-316222bce56b",
   "metadata": {},
   "source": [
    "32. Compare two sets."
   ]
  },
  {
   "cell_type": "code",
   "execution_count": 19,
   "id": "b571019b-48a6-4882-a54d-0798eb6be4d6",
   "metadata": {},
   "outputs": [
    {
     "name": "stdout",
     "output_type": "stream",
     "text": [
      "Set 1: {1, 2, 3, 4, 5}\n",
      "Set 2: {4, 5, 6, 7, 8}\n",
      "Is set1 a subset of set2? False\n",
      "Is set2 a subset of set1? False\n",
      "Intersection: {4, 5}\n",
      "Union: {1, 2, 3, 4, 5, 6, 7, 8}\n",
      "Elements in set1 but not in set2: {1, 2, 3}\n",
      "Elements in set2 but not in set1: {8, 6, 7}\n"
     ]
    }
   ],
   "source": [
    "set1 = {1, 2, 3, 4, 5}\n",
    "set2 = {4, 5, 6, 7, 8}\n",
    "\n",
    "is_subset = set1.issubset(set2)\n",
    "is_superset = set1.issuperset(set2)\n",
    "intersection = set1.intersection(set2)\n",
    "union = set1.union(set2)\n",
    "difference1 = set1.difference(set2)\n",
    "difference2 = set2.difference(set1)\n",
    "\n",
    "print(\"Set 1:\", set1)\n",
    "print(\"Set 2:\", set2)\n",
    "print(\"Is set1 a subset of set2?\", is_subset)\n",
    "print(\"Is set2 a subset of set1?\", is_superset)\n",
    "print(\"Intersection:\", intersection)\n",
    "print(\"Union:\", union)\n",
    "print(\"Elements in set1 but not in set2:\", difference1)\n",
    "print(\"Elements in set2 but not in set1:\", difference2)"
   ]
  },
  {
   "cell_type": "markdown",
   "id": "760ba3f1-aa9c-4edc-b2e9-5637d553712f",
   "metadata": {},
   "source": [
    "33. Create a set from a string."
   ]
  },
  {
   "cell_type": "code",
   "execution_count": 20,
   "id": "7009474d-1651-49e1-bb1f-488f1a90b442",
   "metadata": {},
   "outputs": [
    {
     "name": "stdin",
     "output_type": "stream",
     "text": [
      "Enter a string:  Ritwick\n"
     ]
    },
    {
     "name": "stdout",
     "output_type": "stream",
     "text": [
      "{'c', 'w', 't', 'k', 'R', 'i'}\n"
     ]
    }
   ],
   "source": [
    "sen = input(\"Enter a string: \")\n",
    "char_set = set(sen)\n",
    "print(char_set)"
   ]
  },
  {
   "cell_type": "markdown",
   "id": "ab423380-30b0-437d-8209-d7aa12eae9bf",
   "metadata": {},
   "source": [
    "34. Convert a set of strings to a set of integers."
   ]
  },
  {
   "cell_type": "code",
   "execution_count": 2,
   "id": "0301367d-0004-45c9-bf5f-6e5b2088760d",
   "metadata": {},
   "outputs": [
    {
     "name": "stdout",
     "output_type": "stream",
     "text": [
      "Before conversion:  {'7', '5', '8', '9', '1', '2', '6', '10', '4', '3'}\n",
      "After conversion:  {1, 2, 3, 4, 5, 6, 7, 8, 9, 10}\n"
     ]
    }
   ],
   "source": [
    "my_set={'1','2','3','4','5','6','7','8','9','10'}\n",
    "print(\"Before conversion: \",my_set)\n",
    "my_set=set(map(int, {x for x in my_set}))\n",
    "print(\"After conversion: \",my_set)"
   ]
  },
  {
   "cell_type": "markdown",
   "id": "3ae23fa4-d02c-45c4-bcba-7caa042fae41",
   "metadata": {},
   "source": [
    "35. Convert a set of integers to a set of strings."
   ]
  },
  {
   "cell_type": "code",
   "execution_count": 3,
   "id": "7bf81805-cd62-4d01-83a2-0c7662bc4230",
   "metadata": {},
   "outputs": [
    {
     "name": "stdout",
     "output_type": "stream",
     "text": [
      "Before conversion:  {1, 2, 3, 4, 5, 6, 7, 8, 9, 10}\n",
      "After conversion:  {'7', '5', '8', '9', '1', '2', '6', '10', '4', '3'}\n"
     ]
    }
   ],
   "source": [
    "my_set={1,2,3,4,5,6,7,8,9,10}\n",
    "print(\"Before conversion: \",my_set)\n",
    "my_set=set(map(str, {x for x in my_set}))\n",
    "print(\"After conversion: \",my_set)"
   ]
  },
  {
   "cell_type": "markdown",
   "id": "93b96cdf-18ee-4d4a-bba6-54b636822d6b",
   "metadata": {},
   "source": [
    "36. Create a set from a tuple."
   ]
  },
  {
   "cell_type": "code",
   "execution_count": 4,
   "id": "96da6699-af12-4b91-a5a4-17f12733d9d5",
   "metadata": {},
   "outputs": [
    {
     "name": "stdout",
     "output_type": "stream",
     "text": [
      "Before conversion:  (1, 2, 3, 4, 5, 6, 7, 8, 9, 10)\n",
      "After conversion:  {1, 2, 3, 4, 5, 6, 7, 8, 9, 10}\n"
     ]
    }
   ],
   "source": [
    "tup=(1,2,3,4,5,6,7,8,9,10)\n",
    "print(\"Before conversion: \",tup)\n",
    "my_set=set(tup)\n",
    "print(\"After conversion: \",my_set)"
   ]
  },
  {
   "cell_type": "markdown",
   "id": "8cbeebf7-fd2e-4c89-98ad-1f01d6cbefea",
   "metadata": {},
   "source": [
    "37. Convert a set to a tuple."
   ]
  },
  {
   "cell_type": "code",
   "execution_count": 5,
   "id": "a8fec83d-f002-4b27-8458-25ad6302f584",
   "metadata": {},
   "outputs": [
    {
     "name": "stdout",
     "output_type": "stream",
     "text": [
      "Before conversion:  {1, 2, 3, 4, 5, 6, 7, 8, 9, 10}\n",
      "After conversion:  (1, 2, 3, 4, 5, 6, 7, 8, 9, 10)\n"
     ]
    }
   ],
   "source": [
    "my_set={1, 2, 3, 4, 5, 6, 7, 8, 9, 10}\n",
    "print(\"Before conversion: \",my_set)\n",
    "tup=tuple(my_set)\n",
    "print(\"After conversion: \",tup)"
   ]
  },
  {
   "cell_type": "markdown",
   "id": "db379e4b-74fa-4b9d-bcd9-fd089d56984d",
   "metadata": {},
   "source": [
    "38. Find the maximum value in a set."
   ]
  },
  {
   "cell_type": "code",
   "execution_count": 8,
   "id": "e36625f9-45b7-427a-95bd-681786bffc67",
   "metadata": {},
   "outputs": [
    {
     "name": "stdout",
     "output_type": "stream",
     "text": [
      "Max. value:  10\n"
     ]
    }
   ],
   "source": [
    "my_set={1, 2, 3, 4, 5, 6, 7, 8, 9, 10}\n",
    "print(\"Max. value: \",max(my_set))"
   ]
  },
  {
   "cell_type": "markdown",
   "id": "4630d747-d26d-40c0-9a9b-11942f96ee19",
   "metadata": {},
   "source": [
    "39. Find the minimum value in a set."
   ]
  },
  {
   "cell_type": "code",
   "execution_count": 9,
   "id": "b347c2b0-4d22-42b7-b0e1-f1b43525d044",
   "metadata": {},
   "outputs": [
    {
     "name": "stdout",
     "output_type": "stream",
     "text": [
      "Min. value:  1\n"
     ]
    }
   ],
   "source": [
    "my_set={1, 2, 3, 4, 5, 6, 7, 8, 9, 10}\n",
    "print(\"Min. value: \",min(my_set))"
   ]
  },
  {
   "cell_type": "markdown",
   "id": "6e872d9c-7850-4981-ac51-7d888be2ce15",
   "metadata": {},
   "source": [
    "40. Create a set from user input."
   ]
  },
  {
   "cell_type": "code",
   "execution_count": 10,
   "id": "19c3a0a7-b2f2-4029-af9c-4a83dcf05464",
   "metadata": {},
   "outputs": [
    {
     "name": "stdin",
     "output_type": "stream",
     "text": [
      "Enter set elements:  1 2 3 4 5 6 7 8 9\n"
     ]
    },
    {
     "name": "stdout",
     "output_type": "stream",
     "text": [
      "{1, 2, 3, 4, 5, 6, 7, 8, 9}\n"
     ]
    }
   ],
   "source": [
    "my_set=set(map(int,input(\"Enter set elements: \").split()))\n",
    "print(my_set)"
   ]
  },
  {
   "cell_type": "markdown",
   "id": "9a352179-dca4-45bd-9f56-842a0ce71d86",
   "metadata": {},
   "source": [
    "41. Check if the intersection of two sets is empty."
   ]
  },
  {
   "cell_type": "code",
   "execution_count": 13,
   "id": "3f385526-0b8c-4d4e-80e2-2ee097d02e31",
   "metadata": {},
   "outputs": [
    {
     "name": "stdout",
     "output_type": "stream",
     "text": [
      "Intersection of two sets is empty.\n"
     ]
    }
   ],
   "source": [
    "set1 = {1, 2, 3, 4, 5}\n",
    "set2 = {6, 7, 8, 9, 10}\n",
    "if set1.intersection(set2)==set():\n",
    "    print(\"Intersection of two sets is empty.\")\n",
    "else:\n",
    "    print(\"Intersection of two sets is non-empty.\")"
   ]
  },
  {
   "cell_type": "markdown",
   "id": "04a0c045-d1b8-47e0-b802-6b2c879b7465",
   "metadata": {},
   "source": [
    "42. Create a set of the first 5 Fibonacci numbers."
   ]
  },
  {
   "cell_type": "code",
   "execution_count": 15,
   "id": "c4452fdc-3812-4b36-bc12-f48a773724cb",
   "metadata": {},
   "outputs": [
    {
     "name": "stdout",
     "output_type": "stream",
     "text": [
      "{0, 1, 2, 3, 5}\n"
     ]
    }
   ],
   "source": [
    "def generate_fibonacci(n):\n",
    "    if n<=1:\n",
    "        return n\n",
    "    else:\n",
    "        return generate_fibonacci(n-1)+ generate_fibonacci(n-2)\n",
    "    \n",
    "res=set(map(generate_fibonacci, [x for x in range(0,6)]))\n",
    "print(res)"
   ]
  },
  {
   "cell_type": "markdown",
   "id": "200743d5-3eeb-462f-80df-6b826f79085d",
   "metadata": {},
   "source": [
    "43. Remove duplicates from a list using sets."
   ]
  },
  {
   "cell_type": "code",
   "execution_count": 17,
   "id": "12c24f9d-2cca-456b-a1b5-4c8ca75d0df4",
   "metadata": {},
   "outputs": [
    {
     "name": "stdout",
     "output_type": "stream",
     "text": [
      "Original List:  [1, 1, 2, 5, 9, 4, 2, 9, 6]\n",
      "List with duplicates removed:  [1, 2, 4, 5, 6, 9]\n"
     ]
    }
   ],
   "source": [
    "lst=[1,1,2,5,9,4,2,9,6]\n",
    "my_set=set(lst)\n",
    "print(\"Original List: \",lst)\n",
    "print(\"List with duplicates removed: \",list(my_set))"
   ]
  },
  {
   "cell_type": "markdown",
   "id": "a4c5f6d2-fb2e-44b9-8845-0dcd799e749c",
   "metadata": {},
   "source": [
    "44. Check if two sets have the same elements, regardless of their count."
   ]
  },
  {
   "cell_type": "code",
   "execution_count": 18,
   "id": "4b24a65e-8a27-45e2-96bf-db7a8e84c68c",
   "metadata": {},
   "outputs": [
    {
     "name": "stdout",
     "output_type": "stream",
     "text": [
      "The sets have the same elements.\n"
     ]
    }
   ],
   "source": [
    "def have_same_elements(set1, set2):\n",
    "    list1 = sorted(list(set1))\n",
    "    list2 = sorted(list(set2))\n",
    "    return list1 == list2\n",
    "\n",
    "set1={1, 2, 3, 2, 1}\n",
    "set2={3, 1, 2}\n",
    "\n",
    "result=have_same_elements(set1, set2)\n",
    "\n",
    "if result:\n",
    "    print(\"The sets have the same elements.\")\n",
    "else:\n",
    "    print(\"The sets do not have the same elements.\")"
   ]
  },
  {
   "cell_type": "markdown",
   "id": "ce3eea9f-9787-4f2d-839e-6d955b5539da",
   "metadata": {},
   "source": [
    "45. Create a set of the first `n` powers of 2."
   ]
  },
  {
   "cell_type": "code",
   "execution_count": 23,
   "id": "6fced2e3-3bcc-4ca6-8609-a35f4d816af9",
   "metadata": {},
   "outputs": [
    {
     "name": "stdin",
     "output_type": "stream",
     "text": [
      "Enter a value of n:  5\n"
     ]
    },
    {
     "name": "stdout",
     "output_type": "stream",
     "text": [
      "{1, 2, 4, 8, 16}\n"
     ]
    }
   ],
   "source": [
    "n=int(input(\"Enter a value of n: \"))\n",
    "my_set=set(2**x for x in range(n))\n",
    "print(my_set)"
   ]
  },
  {
   "cell_type": "markdown",
   "id": "aa3d6c7f-e409-4495-afd0-f3df2765ac83",
   "metadata": {},
   "source": [
    "46. Find the common elements between a set and a list."
   ]
  },
  {
   "cell_type": "code",
   "execution_count": 24,
   "id": "9158c5a2-dd0a-4c9e-8068-62287fc6e777",
   "metadata": {},
   "outputs": [
    {
     "name": "stdout",
     "output_type": "stream",
     "text": [
      "Common elements: [7, 9, 12]\n"
     ]
    }
   ],
   "source": [
    "my_set = {3, 7, 9, 12, 15}\n",
    "my_list = [7, 12, 5, 9]\n",
    "list_to_set = set(my_list)\n",
    "\n",
    "common_elements = []\n",
    "for element in my_set:\n",
    "    if element in list_to_set:\n",
    "        common_elements.append(element)\n",
    "\n",
    "print(\"Common elements:\", common_elements)"
   ]
  },
  {
   "cell_type": "markdown",
   "id": "60f96e5d-8bec-4c4d-ae63-b6192f338d25",
   "metadata": {},
   "source": [
    "47. Create a set of the first `n` triangular numbers.:"
   ]
  },
  {
   "cell_type": "code",
   "execution_count": 25,
   "id": "db3bcf6a-0738-4404-a672-c856736aad46",
   "metadata": {},
   "outputs": [
    {
     "name": "stdin",
     "output_type": "stream",
     "text": [
      "Enter a value of n:  5\n"
     ]
    },
    {
     "name": "stdout",
     "output_type": "stream",
     "text": [
      "{1, 3, 6, 10, 15}\n"
     ]
    }
   ],
   "source": [
    "n=int(input(\"Enter a value of n: \"))\n",
    "my_set=set(map(lambda x: x*(x+1)//2, list(range(1,n+1))))\n",
    "print(my_set)"
   ]
  },
  {
   "cell_type": "markdown",
   "id": "28f36452-9a43-4afa-8e83-e8cc0bef7087",
   "metadata": {},
   "source": [
    "48. Check if a set contains another set as a subset."
   ]
  },
  {
   "cell_type": "code",
   "execution_count": 26,
   "id": "482fee83-682d-44d4-bc47-06fbcbdc3f07",
   "metadata": {},
   "outputs": [
    {
     "name": "stdout",
     "output_type": "stream",
     "text": [
      "set2 is a subset of set1\n"
     ]
    }
   ],
   "source": [
    "set1 = {1, 2, 3, 4, 5}\n",
    "set2 = {3, 4}\n",
    "\n",
    "is_subset = set2.issubset(set1)\n",
    "\n",
    "if is_subset:\n",
    "    print(\"set2 is a subset of set1\")\n",
    "else:\n",
    "    print(\"set2 is not a subset of set1\")"
   ]
  },
  {
   "cell_type": "markdown",
   "id": "ce9dd1c8-cd7d-421d-802c-37adca984676",
   "metadata": {
    "tags": []
   },
   "source": [
    "49. Create a set of alternating 1s and 0s of length `n`."
   ]
  },
  {
   "cell_type": "code",
   "execution_count": 29,
   "id": "4f85a39b-b31c-4198-8b05-76ce9dd01a44",
   "metadata": {},
   "outputs": [
    {
     "name": "stdin",
     "output_type": "stream",
     "text": [
      "Enter value of n:  5\n"
     ]
    },
    {
     "name": "stdout",
     "output_type": "stream",
     "text": [
      "{0, 1}\n"
     ]
    }
   ],
   "source": [
    "n=int(input(\"Enter value of n: \"))\n",
    "my_set=set(map(lambda x: 0 if x%2==0 else 1, [n for n in range(1,n+1)]))\n",
    "print(my_set)"
   ]
  },
  {
   "cell_type": "markdown",
   "id": "9c80b7ac-3fb8-4637-8461-36db1e382b42",
   "metadata": {},
   "source": [
    "50. Merge multiple sets into one."
   ]
  },
  {
   "cell_type": "code",
   "execution_count": 32,
   "id": "d53807be-6150-4ced-8a6b-3df49120447a",
   "metadata": {},
   "outputs": [
    {
     "name": "stdout",
     "output_type": "stream",
     "text": [
      "Merged Set: {1, 2, 3, 4, 5, 6, 7}\n"
     ]
    }
   ],
   "source": [
    "set1 = {1, 2, 3}\n",
    "set2 = {3, 4, 5}\n",
    "set3 = {5, 6, 7}\n",
    "merged_set = set1.union(set2, set3)\n",
    "print(\"Merged Set:\", merged_set)"
   ]
  },
  {
   "cell_type": "code",
   "execution_count": null,
   "id": "5d12e705-aa4b-4985-a814-c97ed0b6d85b",
   "metadata": {},
   "outputs": [],
   "source": []
  }
 ],
 "metadata": {
  "kernelspec": {
   "display_name": "Python 3 (ipykernel)",
   "language": "python",
   "name": "python3"
  },
  "language_info": {
   "codemirror_mode": {
    "name": "ipython",
    "version": 3
   },
   "file_extension": ".py",
   "mimetype": "text/x-python",
   "name": "python",
   "nbconvert_exporter": "python",
   "pygments_lexer": "ipython3",
   "version": "3.10.8"
  }
 },
 "nbformat": 4,
 "nbformat_minor": 5
}
