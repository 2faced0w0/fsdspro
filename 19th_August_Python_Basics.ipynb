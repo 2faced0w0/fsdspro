{
 "cells": [
  {
   "cell_type": "markdown",
   "id": "1fda447b-f616-4b08-83cf-7396fb97e074",
   "metadata": {},
   "source": [
    "# TOPIC: Python Basics Variable"
   ]
  },
  {
   "cell_type": "markdown",
   "id": "0add1132-8a95-46fa-bef0-e25313d78d7b",
   "metadata": {},
   "source": [
    "1. Declare two variables, `x` and `y`, and assign them integer values. Swap the\n",
    "values of these variables without using any temporary variable."
   ]
  },
  {
   "cell_type": "code",
   "execution_count": 3,
   "id": "f14410f0-c048-4099-9c00-500bab2d44e9",
   "metadata": {},
   "outputs": [
    {
     "name": "stdout",
     "output_type": "stream",
     "text": [
      "Before swap: x=5 y=10\n",
      "After swap: x=10 y=5\n"
     ]
    }
   ],
   "source": [
    "x=5\n",
    "y=10\n",
    "print(\"Before swap: x={} y={}\".format(x,y))\n",
    "x=x+y\n",
    "y=x-y\n",
    "x=x-y\n",
    "print(\"After swap: x={} y={}\".format(x,y))"
   ]
  },
  {
   "cell_type": "markdown",
   "id": "7052ad6d-87d3-4ee3-8cc1-e0262296b7c3",
   "metadata": {},
   "source": [
    "2. Create a program that calculates the area of a rectangle. Take the length and\n",
    "width as inputs from the user and store them in variables. Calculate and\n",
    "display the area."
   ]
  },
  {
   "cell_type": "code",
   "execution_count": 5,
   "id": "9d2d4746-b81c-4aa9-86a6-af14825767a8",
   "metadata": {},
   "outputs": [
    {
     "name": "stdin",
     "output_type": "stream",
     "text": [
      "Enter length of rectangle:  5\n",
      "Enter breadth of rectangle:  10\n"
     ]
    },
    {
     "name": "stdout",
     "output_type": "stream",
     "text": [
      "50\n"
     ]
    }
   ],
   "source": [
    "def area(l, b):\n",
    "    return l*b\n",
    "l=int(input(\"Enter length of rectangle: \"))\n",
    "b=int(input(\"Enter breadth of rectangle: \"))\n",
    "print(area(l,b))"
   ]
  },
  {
   "cell_type": "markdown",
   "id": "afcf2bca-009d-41b4-8f4b-f03839769c3b",
   "metadata": {},
   "source": [
    "3. Write a Python program that converts temperatures from Celsius to\n",
    "Fahrenheit. Take the temperature in Celsius as input, store it in a variable,\n",
    "convert it to Fahrenheit, and display the result."
   ]
  },
  {
   "cell_type": "code",
   "execution_count": 6,
   "id": "5a5b7e92-333d-4a89-9e11-cb6c22b5cb53",
   "metadata": {},
   "outputs": [
    {
     "name": "stdin",
     "output_type": "stream",
     "text": [
      "Enter temperature in Celsius:  35\n"
     ]
    },
    {
     "name": "stdout",
     "output_type": "stream",
     "text": [
      "Temerature in Fahrenheit:  95.0\n"
     ]
    }
   ],
   "source": [
    "tc=int(input(\"Enter temperature in Celsius: \"))\n",
    "tf=(9/5)*tc+32  #formula to convert celsius into fahrenheit\n",
    "print(\"Temerature in Fahrenheit: \",tf)"
   ]
  },
  {
   "cell_type": "markdown",
   "id": "9700be80-b30e-45da-9f08-43a2d11b0373",
   "metadata": {},
   "source": [
    "# TOPIC: String Based Questions"
   ]
  },
  {
   "cell_type": "markdown",
   "id": "0d9ab987-33fc-4a5e-be73-87b65975ca5b",
   "metadata": {},
   "source": [
    "1. Write a Python program that takes a string as input and prints the length of\n",
    "the string."
   ]
  },
  {
   "cell_type": "code",
   "execution_count": 8,
   "id": "fd9557e8-df43-4846-904b-02ee24e05db4",
   "metadata": {},
   "outputs": [
    {
     "name": "stdin",
     "output_type": "stream",
     "text": [
      "Enter a string:  I am boy\n"
     ]
    },
    {
     "name": "stdout",
     "output_type": "stream",
     "text": [
      "8\n"
     ]
    }
   ],
   "source": [
    "print(len(input(\"Enter a string: \")))"
   ]
  },
  {
   "cell_type": "markdown",
   "id": "48e37b64-4d50-485e-96ed-23aa2cfa6a66",
   "metadata": {},
   "source": [
    "2. Create a program that takes a sentence from the user and counts the number\n",
    "of vowels (a, e, i, o, u) in the string."
   ]
  },
  {
   "cell_type": "code",
   "execution_count": 19,
   "id": "5c202bf0-ee6e-41b0-9b80-638f68cc8eda",
   "metadata": {},
   "outputs": [
    {
     "name": "stdin",
     "output_type": "stream",
     "text": [
      "Enter a string:  I am boy\n"
     ]
    },
    {
     "data": {
      "text/plain": [
       "'Vowel Count: a-> 1    e-> 0    i-> 1    o-> 1    u-> 0'"
      ]
     },
     "execution_count": 19,
     "metadata": {},
     "output_type": "execute_result"
    }
   ],
   "source": [
    "def vct(sen):\n",
    "    ct_a=0\n",
    "    ct_e=0\n",
    "    ct_i=0\n",
    "    ct_o=0\n",
    "    ct_u=0\n",
    "    for i in list(sen):\n",
    "        if(i=='a' or i=='A'):\n",
    "            ct_a+=1\n",
    "            \n",
    "        elif (i == 'e' or  i== \"E\"):\n",
    "            ct_e +=1\n",
    "            \n",
    "        elif (i == 'i' or  i== \"I\"):\n",
    "            ct_i +=1\n",
    "            \n",
    "        elif (i == 'o' or  i== \"O\"):\n",
    "            ct_o +=1\n",
    "            \n",
    "        elif (i == 'u' or  i== \"U\"):\n",
    "            ct_u +=1\n",
    "            \n",
    "    res=f'Vowel Count: a-> {ct_a}    e-> {ct_e}    i-> {ct_i}    o-> {ct_o}    u-> {ct_u}'\n",
    "    return res\n",
    "            \n",
    "\n",
    "sen=input(\"Enter a string: \")\n",
    "vct(sen)\n"
   ]
  },
  {
   "cell_type": "markdown",
   "id": "9e84cc52-f3f5-4fb2-b3b1-55f6167337a9",
   "metadata": {},
   "source": [
    "3. Given a string, reverse the order of characters using string slicing and print\n",
    "the reversed string."
   ]
  },
  {
   "cell_type": "code",
   "execution_count": 20,
   "id": "b8f5c0f0-e67c-460e-901c-08ae0916ce7d",
   "metadata": {},
   "outputs": [
    {
     "name": "stdin",
     "output_type": "stream",
     "text": [
      "Enter a string:  I am Boy\n"
     ]
    },
    {
     "name": "stdout",
     "output_type": "stream",
     "text": [
      "yoB ma I\n"
     ]
    }
   ],
   "source": [
    "def rev(str):\n",
    "    return str[::-1]  #string slicing syntax string[star:stop:step], [::-1] returns all the characters of the string in reverse order\n",
    "\n",
    "str=input(\"Enter a string: \")\n",
    "print(rev(str))"
   ]
  },
  {
   "cell_type": "markdown",
   "id": "6cd106bd-1dc4-451e-a741-8c6fcbf5bc11",
   "metadata": {},
   "source": [
    "4. Write a program that takes a string as input and checks if it is a palindrome\n",
    "(reads the same forwards and backwards)."
   ]
  },
  {
   "cell_type": "code",
   "execution_count": 41,
   "id": "6875745f-a211-4cdb-bcc1-50e593bb4ac4",
   "metadata": {},
   "outputs": [
    {
     "name": "stdout",
     "output_type": "stream",
     "text": [
      "It is Palindrome\n"
     ]
    }
   ],
   "source": [
    "def palin_check(str):\n",
    "    str=\"\".join(str.split())  #joining all the elements after splitting them character-wise to get rid of white-spaces\n",
    "    if str==str[::-1]:        #checking if the string reads exact same in reverse order(without any white spaces)\n",
    "    \treturn 'It is Palindrome'\n",
    "    else:\n",
    "        return 'Not a Palindrome'\n",
    "\n",
    "print(palin_check(\"yoB ivi Boy\"))"
   ]
  },
  {
   "cell_type": "markdown",
   "id": "cb06dcc8-ee2d-4559-956b-0cdd8a41832f",
   "metadata": {},
   "source": [
    "5. Create a program that takes a string as input and removes all the spaces from\n",
    "it. Print the modified string without spaces."
   ]
  },
  {
   "cell_type": "code",
   "execution_count": null,
   "id": "686c4393-d05e-4171-a9ab-69d9a815249b",
   "metadata": {},
   "outputs": [],
   "source": [
    "def rem_space(str):\n",
    "    str=\"\".join(str.split())"
   ]
  }
 ],
 "metadata": {
  "kernelspec": {
   "display_name": "Python 3 (ipykernel)",
   "language": "python",
   "name": "python3"
  },
  "language_info": {
   "codemirror_mode": {
    "name": "ipython",
    "version": 3
   },
   "file_extension": ".py",
   "mimetype": "text/x-python",
   "name": "python",
   "nbconvert_exporter": "python",
   "pygments_lexer": "ipython3",
   "version": "3.10.8"
  }
 },
 "nbformat": 4,
 "nbformat_minor": 5
}
